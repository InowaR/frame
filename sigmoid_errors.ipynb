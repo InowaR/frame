{
  "nbformat": 4,
  "nbformat_minor": 0,
  "metadata": {
    "colab": {
      "name": "Копия блокнота \"Копия блокнота \"2_2_2.ipynb\"\"",
      "provenance": [],
      "collapsed_sections": [],
      "authorship_tag": "ABX9TyObxkvp5rK/5vzaxgXx9+7A",
      "include_colab_link": true
    },
    "kernelspec": {
      "name": "python3",
      "display_name": "Python 3"
    },
    "language_info": {
      "name": "python"
    }
  },
  "cells": [
    {
      "cell_type": "markdown",
      "metadata": {
        "id": "view-in-github",
        "colab_type": "text"
      },
      "source": [
        "<a href=\"https://colab.research.google.com/github/InowaR/frame/blob/main/sigmoid_errors.ipynb\" target=\"_parent\"><img src=\"https://colab.research.google.com/assets/colab-badge.svg\" alt=\"Open In Colab\"/></a>"
      ]
    },
    {
      "cell_type": "code",
      "execution_count": 9,
      "metadata": {
        "colab": {
          "base_uri": "https://localhost:8080/"
        },
        "id": "a2-3IIFJAU7d",
        "outputId": "8eb7360a-7159-47c8-f41e-8d138f712a53"
      },
      "outputs": [
        {
          "output_type": "stream",
          "name": "stdout",
          "text": [
            "=======================================\n",
            "[0.534943 0.579324 0.534943 0.579324 0.534943 0.579324] <---- b\n",
            "[0.698027 0.698027 0.631668 0.631668 0.569739 0.569739] <---- c\n",
            "[0.1 0.2 0.3 0.1 0.2 0.3] <---- a\n",
            "[0.465057 0.465057 0.465057 0.420676 0.420676 0.420676] <---- 1 - b\n",
            "---------[C2]-------------\n",
            "          0\n",
            "0  0.021635\n",
            "1  0.021635\n",
            "2  0.048744\n",
            "3  0.048744\n",
            "4  0.032803\n",
            "5  0.032803\n"
          ]
        }
      ],
      "source": [
        "import numpy as np\n",
        "import pandas as pd\n",
        "b = np.array([0.534943,0.579324])\n",
        "c = np.array([0.698027,0.631668,0.569739])\n",
        "a = np.array([0.1,0.2,0.3])\n",
        "w = np.array([0.7,0.8,0.9,0.1,0.2,0.3])\n",
        "b_tile = np.tile(b, len(c))\n",
        "b_repeat = np.repeat(b,len(a))\n",
        "c_repeat = np.repeat(c, len(b))\n",
        "a_tile = np.tile(a,len(b))\n",
        "print('=======================================')\n",
        "print(b_tile, '<---- b')\n",
        "print(c_repeat, '<---- c')\n",
        "print(a_tile, '<---- a')\n",
        "b_new = np.ones(len(b))\n",
        "b_new = b_new - b\n",
        "b_new = np.repeat(b_new, len(a)) # number of inputs (a1,a2,a3)\n",
        "print(b_new, '<---- 1 - b')\n",
        "errors = np.array([0.098027,0.331668,0.469739]) # number of outputs (c1,c2,c3) - delta\n",
        "errors = np.repeat(errors, len(b)) # number of hidden array (b1,b2)\n",
        "errors = pd.DataFrame(errors)\n",
        "c_errors = pd.DataFrame(c_repeat)\n",
        "ones = np.ones(len(w))\n",
        "ones = pd.DataFrame(ones)\n",
        "c_one = errors * c_errors * (ones - c_errors)\n",
        "c_new = np.split(c_repeat, len(c)) # number of outputs\n",
        "c_weights = w * c_repeat\n",
        "c_weights = np.split(c_weights, len(c)) # number of outputs\n",
        "c_weights = pd.DataFrame(c_weights)\n",
        "c_weights = c_weights.sum(axis=1)\n",
        "c_weights.to_numpy()\n",
        "c_weights = np.repeat(c_weights, len(b))\n",
        "c_w = c_weights.to_numpy()\n",
        "c_w = pd.DataFrame(c_w)\n",
        "c_frame = c_one * c_w\n",
        "print('---------[C2]-------------')\n",
        "print(c_frame)"
      ]
    },
    {
      "cell_type": "code",
      "source": [
        "b_tile = pd.DataFrame(b_tile)\n",
        "print('--------[B1]--------')\n",
        "print(b_tile)\n",
        "c_repeat = pd.DataFrame(c_repeat)\n",
        "print('--------[C1]--------')\n",
        "print(c_repeat)\n",
        "mul = c_repeat * b_tile\n",
        "print('--------[B1] * [C1] = [7,8,9,10,11,12 weights] -------------')\n",
        "print(mul)"
      ],
      "metadata": {
        "colab": {
          "base_uri": "https://localhost:8080/"
        },
        "id": "F_S2BtqHZ_7V",
        "outputId": "d2d58b9a-533f-445b-ec20-f64ba51cdaf6"
      },
      "execution_count": 10,
      "outputs": [
        {
          "output_type": "stream",
          "name": "stdout",
          "text": [
            "--------[B1]--------\n",
            "          0\n",
            "0  0.534943\n",
            "1  0.579324\n",
            "2  0.534943\n",
            "3  0.579324\n",
            "4  0.534943\n",
            "5  0.579324\n",
            "--------[C1]--------\n",
            "          0\n",
            "0  0.698027\n",
            "1  0.698027\n",
            "2  0.631668\n",
            "3  0.631668\n",
            "4  0.569739\n",
            "5  0.569739\n",
            "--------[B1] * [C1] = [7,8,9,10,11,12 weights] -------------\n",
            "          0\n",
            "0  0.373405\n",
            "1  0.404384\n",
            "2  0.337906\n",
            "3  0.365940\n",
            "4  0.304778\n",
            "5  0.330063\n"
          ]
        }
      ]
    },
    {
      "cell_type": "code",
      "source": [
        "print ('------------errors---------')\n",
        "errors = np.array([0.098027,0.331668,0.469739])\n",
        "errors = np.repeat(errors, len(b))\n",
        "errors = pd.DataFrame(errors)\n",
        "print(errors)\n",
        "print('----------------------------------------')\n",
        "c_errors = pd.DataFrame(c_repeat)\n",
        "print(c_errors)\n",
        "print('----------------------------------------')\n",
        "ones = np.ones(len(w))\n",
        "ones = pd.DataFrame(ones)\n",
        "print(ones)\n",
        "print('----------------------------------------')\n",
        "c_one = errors * c_errors * (ones - c_errors)\n",
        "print(c_one)\n",
        "print('----------------------------------------')"
      ],
      "metadata": {
        "colab": {
          "base_uri": "https://localhost:8080/"
        },
        "id": "0gK0jSEluUYp",
        "outputId": "a7442e48-2d4d-4863-b27b-0f59e2a45ca5"
      },
      "execution_count": 11,
      "outputs": [
        {
          "output_type": "stream",
          "name": "stdout",
          "text": [
            "------------errors---------\n",
            "          0\n",
            "0  0.098027\n",
            "1  0.098027\n",
            "2  0.331668\n",
            "3  0.331668\n",
            "4  0.469739\n",
            "5  0.469739\n",
            "----------------------------------------\n",
            "          0\n",
            "0  0.698027\n",
            "1  0.698027\n",
            "2  0.631668\n",
            "3  0.631668\n",
            "4  0.569739\n",
            "5  0.569739\n",
            "----------------------------------------\n",
            "     0\n",
            "0  1.0\n",
            "1  1.0\n",
            "2  1.0\n",
            "3  1.0\n",
            "4  1.0\n",
            "5  1.0\n",
            "----------------------------------------\n",
            "          0\n",
            "0  0.020663\n",
            "1  0.020663\n",
            "2  0.077167\n",
            "3  0.077167\n",
            "4  0.115150\n",
            "5  0.115150\n",
            "----------------------------------------\n"
          ]
        }
      ]
    },
    {
      "cell_type": "code",
      "source": [
        "a_tile = pd.DataFrame(a_tile)\n",
        "print('--------[A2]--------')\n",
        "print(a_tile)\n",
        "b_repeat = pd.DataFrame(b_repeat)\n",
        "b_new = pd.DataFrame(b_new)\n",
        "b_mul = b_repeat * b_new\n",
        "print('--------[B2]--------')\n",
        "print(b_mul)\n",
        "mul_second = a_tile * b_mul * c_frame\n",
        "print('--------[A2] * [B2] * [C2] = [1,2,3,4,5,6 weights]--------')\n",
        "print(mul_second)"
      ],
      "metadata": {
        "colab": {
          "base_uri": "https://localhost:8080/"
        },
        "id": "GNrKG8fO8_sL",
        "outputId": "b9a253bd-44e0-4fc1-b05a-e3d330cba79c"
      },
      "execution_count": 12,
      "outputs": [
        {
          "output_type": "stream",
          "name": "stdout",
          "text": [
            "--------[A2]--------\n",
            "     0\n",
            "0  0.1\n",
            "1  0.2\n",
            "2  0.3\n",
            "3  0.1\n",
            "4  0.2\n",
            "5  0.3\n",
            "--------[B2]--------\n",
            "          0\n",
            "0  0.248779\n",
            "1  0.248779\n",
            "2  0.248779\n",
            "3  0.243708\n",
            "4  0.243708\n",
            "5  0.243708\n",
            "--------[A2] * [B2] * [C2] = [1,2,3,4,5,6 weights]--------\n",
            "          0\n",
            "0  0.000538\n",
            "1  0.001076\n",
            "2  0.003638\n",
            "3  0.001188\n",
            "4  0.001599\n",
            "5  0.002398\n"
          ]
        }
      ]
    },
    {
      "cell_type": "code",
      "source": [
        "%%html \n",
        "<h2> --------------------------------- </h2>\n",
        "<h2> [A1] * [B1] * [C1] = [w1] </h2>\n",
        "<h2> [A2] * [B1] * [C1] = [w2] </h2>\n",
        "<h2> [A3] * [B1] * [C1] = [w3] </h2>\n",
        "<h2> [A1] * [B2] * [C2] = [w4] </h2>\n",
        "<h2> [A2] * [B2] * [C2] = [w5] </h2>\n",
        "<h2> [A3] * [B1] * [C2] = [w6] </h2>\n",
        "<h2> --------------------------------- </h2>\n",
        "<h2> [B1] * [C1] = [w7] </h2>\n",
        "<h2> [B2] * [C1] = [w8] </h2>\n",
        "<h2> [B1] * [C2] = [w9] </h2>\n",
        "<h2> [B2] * [C2] = [w10] </h2>\n",
        "<h2> [B1] * [C3] = [w11] </h2>\n",
        "<h2> [B2] * [C3] = [w12] </h2>"
      ],
      "metadata": {
        "colab": {
          "base_uri": "https://localhost:8080/",
          "height": 629
        },
        "id": "1Gy8PkACDeB_",
        "outputId": "10f414c7-be50-4d48-937d-0c6223f32089"
      },
      "execution_count": null,
      "outputs": [
        {
          "output_type": "display_data",
          "data": {
            "text/plain": [
              "<IPython.core.display.HTML object>"
            ],
            "text/html": [
              "<h2> --------------------------------- </h2>\n",
              "<h2> [A1] * [B1] * [C1] = [w1] </h2>\n",
              "<h2> [A2] * [B1] * [C1] = [w2] </h2>\n",
              "<h2> [A3] * [B1] * [C1] = [w3] </h2>\n",
              "<h2> [A1] * [B2] * [C2] = [w4] </h2>\n",
              "<h2> [A2] * [B2] * [C2] = [w5] </h2>\n",
              "<h2> [A3] * [B1] * [C2] = [w6] </h2>\n",
              "<h2> --------------------------------- </h2>\n",
              "<h2> [B1] * [C1] = [w7] </h2>\n",
              "<h2> [B2] * [C1] = [w8] </h2>\n",
              "<h2> [B1] * [C2] = [w9] </h2>\n",
              "<h2> [B2] * [C2] = [w10] </h2>\n",
              "<h2> [B1] * [C3] = [w11] </h2>\n",
              "<h2> [B2] * [C3] = [w12] </h2>"
            ]
          },
          "metadata": {}
        }
      ]
    }
  ]
}