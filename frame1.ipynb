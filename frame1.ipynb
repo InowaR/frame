{
  "nbformat": 4,
  "nbformat_minor": 0,
  "metadata": {
    "colab": {
      "name": "frame.ipynb",
      "provenance": [],
      "authorship_tag": "ABX9TyNjRdTRe/Y0OwR03p7oTtz1",
      "include_colab_link": true
    },
    "kernelspec": {
      "name": "python3",
      "display_name": "Python 3"
    },
    "language_info": {
      "name": "python"
    }
  },
  "cells": [
    {
      "cell_type": "markdown",
      "metadata": {
        "id": "view-in-github",
        "colab_type": "text"
      },
      "source": [
        "<a href=\"https://colab.research.google.com/github/InowaR/frame/blob/main/frame1.ipynb\" target=\"_parent\"><img src=\"https://colab.research.google.com/assets/colab-badge.svg\" alt=\"Open In Colab\"/></a>"
      ]
    },
    {
      "cell_type": "code",
      "execution_count": 21,
      "metadata": {
        "colab": {
          "base_uri": "https://localhost:8080/"
        },
        "id": "SaNjrhO8Ba4F",
        "outputId": "03d9eee3-4831-4346-b919-7c14dea32d09"
      },
      "outputs": [
        {
          "output_type": "stream",
          "name": "stdout",
          "text": [
            "    w1   w2\n",
            "0  1.0  2.0\n",
            "1  3.0  4.0\n",
            "2  5.0  6.0\n",
            "3  7.0  8.0\n"
          ]
        }
      ],
      "source": [
        "import numpy as np\n",
        "import pandas as pd\n",
        "w = np.arange(1, 9, dtype = float).reshape(4, 2)\n",
        "frame_w = pd.DataFrame(w, columns = ['w1','w2'])\n",
        "print (frame_w)"
      ]
    },
    {
      "cell_type": "code",
      "source": [
        "input = np.arange(1, 9, dtype = float).reshape(4, 2)\n",
        "frame_a = pd.DataFrame(input, columns = ['a1', 'a2'])\n",
        "frame_a ['a1'] = 1\n",
        "frame_a ['a2'] = 1\n",
        "print (frame_a)"
      ],
      "metadata": {
        "colab": {
          "base_uri": "https://localhost:8080/"
        },
        "id": "sTTy3lrrCARK",
        "outputId": "e60b4296-d6ce-4562-edd4-f2536f47348b"
      },
      "execution_count": 30,
      "outputs": [
        {
          "output_type": "stream",
          "name": "stdout",
          "text": [
            "   a1  a2\n",
            "0   1   1\n",
            "1   1   1\n",
            "2   1   1\n",
            "3   1   1\n"
          ]
        }
      ]
    },
    {
      "cell_type": "code",
      "source": [
        "output = np.arange(1, 5, dtype = float).reshape(4, 1)\n",
        "frame_b = pd.DataFrame(output, columns = ['b1'])\n",
        "frame_b ['b1'] = frame_a ['a1'] * frame_w ['w1'] + frame_a ['a2'] * frame_w ['w2']\n",
        "print (frame_b)"
      ],
      "metadata": {
        "colab": {
          "base_uri": "https://localhost:8080/"
        },
        "id": "jXMrnu6_CYmq",
        "outputId": "8b3ea41f-aeac-4210-9507-4ea29e4925dd"
      },
      "execution_count": 32,
      "outputs": [
        {
          "output_type": "stream",
          "name": "stdout",
          "text": [
            "     b1\n",
            "0   3.0\n",
            "1   7.0\n",
            "2  11.0\n",
            "3  15.0\n"
          ]
        }
      ]
    }
  ]
}