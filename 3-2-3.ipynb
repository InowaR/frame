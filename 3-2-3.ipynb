{
  "nbformat": 4,
  "nbformat_minor": 0,
  "metadata": {
    "colab": {
      "name": "Копия блокнота \"2_2_2.ipynb\"",
      "provenance": [],
      "collapsed_sections": [],
      "authorship_tag": "ABX9TyMp6heGnL2lU1/msyUowhL6",
      "include_colab_link": true
    },
    "kernelspec": {
      "name": "python3",
      "display_name": "Python 3"
    },
    "language_info": {
      "name": "python"
    }
  },
  "cells": [
    {
      "cell_type": "markdown",
      "metadata": {
        "id": "view-in-github",
        "colab_type": "text"
      },
      "source": [
        "<a href=\"https://colab.research.google.com/github/InowaR/frame/blob/main/3-2-3.ipynb\" target=\"_parent\"><img src=\"https://colab.research.google.com/assets/colab-badge.svg\" alt=\"Open In Colab\"/></a>"
      ]
    },
    {
      "cell_type": "code",
      "execution_count": 34,
      "metadata": {
        "colab": {
          "base_uri": "https://localhost:8080/"
        },
        "id": "a2-3IIFJAU7d",
        "outputId": "4ce845c4-bcc5-484f-a783-bf000339812c"
      },
      "outputs": [
        {
          "output_type": "stream",
          "name": "stdout",
          "text": [
            "=======================================\n",
            "[1 2 1 2 1 2] <---- b\n",
            "[1 1 2 2 3 3] <---- c\n",
            "[1 2 3 1 2 3] <---- a\n",
            "[ 0.  0.  0. -1. -1. -1.] <---- 1 - b\n",
            "---------[C2]-------------\n",
            "        0\n",
            "0     0.0\n",
            "1     0.0\n",
            "2  -152.0\n",
            "3  -152.0\n",
            "4 -1242.0\n",
            "5 -1242.0\n"
          ]
        }
      ],
      "source": [
        "import numpy as np\n",
        "import pandas as pd\n",
        "b = np.array([1,2])\n",
        "c = np.array([1,2,3])\n",
        "a = np.array([1,2,3])\n",
        "w = np.array([7,8,9,10,11,12])\n",
        "b_tile = np.tile(b, len(c))\n",
        "b_repeat = np.repeat(b,len(a))\n",
        "c_repeat = np.repeat(c, len(b))\n",
        "a_tile = np.tile(a,len(b))\n",
        "print('=======================================')\n",
        "print(b_tile, '<---- b')\n",
        "print(c_repeat, '<---- c')\n",
        "print(a_tile, '<---- a')\n",
        "b_new = np.ones(len(b))\n",
        "b_new = b_new - b\n",
        "b_new = np.repeat(b_new, len(a)) # number of inputs (a1,a2,a3)\n",
        "print(b_new, '<---- 1 - b')\n",
        "errors = np.array([1,2,3]) # number of outputs (c1,c2,c3)\n",
        "errors = np.repeat(errors, len(b)) # number of hidden array (b1,b2)\n",
        "errors = pd.DataFrame(errors)\n",
        "c_errors = pd.DataFrame(c_repeat)\n",
        "ones = np.ones(len(w))\n",
        "ones = pd.DataFrame(ones)\n",
        "c_one = errors * c_errors * (ones - c_errors)\n",
        "c_new = np.split(c_repeat, len(c)) # number of outputs\n",
        "c_weights = w * c_repeat\n",
        "c_weights = np.split(c_weights, len(c)) # number of outputs\n",
        "c_weights = pd.DataFrame(c_weights)\n",
        "c_weights = c_weights.sum(axis=1)\n",
        "c_weights.to_numpy()\n",
        "c_weights = np.repeat(c_weights, len(b))\n",
        "c_w = c_weights.to_numpy()\n",
        "c_w = pd.DataFrame(c_w)\n",
        "c_frame = c_one * c_w\n",
        "print('---------[C2]-------------')\n",
        "print(c_frame)"
      ]
    },
    {
      "cell_type": "code",
      "source": [
        "b_tile = pd.DataFrame(b_tile)\n",
        "print('--------[B1]--------')\n",
        "print(b_tile)\n",
        "c_repeat = pd.DataFrame(c_repeat)\n",
        "print('--------[C1]--------')\n",
        "print(c_repeat)\n",
        "mul = c_repeat * b_tile\n",
        "print('--------[B1] * [C1] = [7,8,9,10,11,12 weights] -------------')\n",
        "print(mul)"
      ],
      "metadata": {
        "colab": {
          "base_uri": "https://localhost:8080/"
        },
        "id": "F_S2BtqHZ_7V",
        "outputId": "09eeb9ea-dc3b-4bd7-a67a-9631f2ca5c69"
      },
      "execution_count": 35,
      "outputs": [
        {
          "output_type": "stream",
          "name": "stdout",
          "text": [
            "--------[B1]--------\n",
            "   0\n",
            "0  1\n",
            "1  2\n",
            "2  1\n",
            "3  2\n",
            "4  1\n",
            "5  2\n",
            "--------[C1]--------\n",
            "   0\n",
            "0  1\n",
            "1  1\n",
            "2  2\n",
            "3  2\n",
            "4  3\n",
            "5  3\n",
            "--------[B1] * [C1] = [7,8,9,10,11,12 weights] -------------\n",
            "   0\n",
            "0  1\n",
            "1  2\n",
            "2  2\n",
            "3  4\n",
            "4  3\n",
            "5  6\n"
          ]
        }
      ]
    },
    {
      "cell_type": "code",
      "source": [
        "print ('------------errors---------')\n",
        "errors = np.array([1,2,3])\n",
        "errors = np.repeat(errors, len(b))\n",
        "errors = pd.DataFrame(errors)\n",
        "print(errors)\n",
        "print('----------------------------------------')\n",
        "c_errors = pd.DataFrame(c_repeat)\n",
        "print(c_errors)\n",
        "print('----------------------------------------')\n",
        "ones = np.ones(len(w))\n",
        "ones = pd.DataFrame(ones)\n",
        "print(ones)\n",
        "print('----------------------------------------')\n",
        "c_one = errors * c_errors * (ones - c_errors)\n",
        "print(c_one)\n",
        "print('----------------------------------------')"
      ],
      "metadata": {
        "colab": {
          "base_uri": "https://localhost:8080/"
        },
        "id": "0gK0jSEluUYp",
        "outputId": "40929cff-d5a2-4648-c60d-23bc9028bda3"
      },
      "execution_count": 36,
      "outputs": [
        {
          "output_type": "stream",
          "name": "stdout",
          "text": [
            "------------errors---------\n",
            "   0\n",
            "0  1\n",
            "1  1\n",
            "2  2\n",
            "3  2\n",
            "4  3\n",
            "5  3\n",
            "----------------------------------------\n",
            "   0\n",
            "0  1\n",
            "1  1\n",
            "2  2\n",
            "3  2\n",
            "4  3\n",
            "5  3\n",
            "----------------------------------------\n",
            "     0\n",
            "0  1.0\n",
            "1  1.0\n",
            "2  1.0\n",
            "3  1.0\n",
            "4  1.0\n",
            "5  1.0\n",
            "----------------------------------------\n",
            "      0\n",
            "0   0.0\n",
            "1   0.0\n",
            "2  -4.0\n",
            "3  -4.0\n",
            "4 -18.0\n",
            "5 -18.0\n",
            "----------------------------------------\n"
          ]
        }
      ]
    },
    {
      "cell_type": "code",
      "source": [
        "a_tile = pd.DataFrame(a_tile)\n",
        "print('--------[A2]--------')\n",
        "print(a_tile)\n",
        "b_repeat = pd.DataFrame(b_repeat)\n",
        "b_new = pd.DataFrame(b_new)\n",
        "b_mul = b_repeat * b_new\n",
        "print('--------[B2]--------')\n",
        "print(b_mul)\n",
        "mul_second = a_tile * b_mul * c_frame\n",
        "print('--------[A2] * [B2] * [C2] = [1,2,3,4,5,6 weights]--------')\n",
        "print(mul_second)"
      ],
      "metadata": {
        "colab": {
          "base_uri": "https://localhost:8080/"
        },
        "id": "GNrKG8fO8_sL",
        "outputId": "8d2cfed0-7cd7-4a3f-bfab-951224bd8cc7"
      },
      "execution_count": 37,
      "outputs": [
        {
          "output_type": "stream",
          "name": "stdout",
          "text": [
            "--------[A2]--------\n",
            "   0\n",
            "0  1\n",
            "1  2\n",
            "2  3\n",
            "3  1\n",
            "4  2\n",
            "5  3\n",
            "--------[B2]--------\n",
            "     0\n",
            "0  0.0\n",
            "1  0.0\n",
            "2  0.0\n",
            "3 -2.0\n",
            "4 -2.0\n",
            "5 -2.0\n",
            "--------[A2] * [B2] * [C2] = [1,2,3,4,5,6 weights]--------\n",
            "        0\n",
            "0     0.0\n",
            "1     0.0\n",
            "2    -0.0\n",
            "3   304.0\n",
            "4  4968.0\n",
            "5  7452.0\n"
          ]
        }
      ]
    },
    {
      "cell_type": "code",
      "source": [
        "%%html \n",
        "<h2> --------------------------------- </h2>\n",
        "<h2> [A1] * [B1] * [C1] = [w1] </h2>\n",
        "<h2> [A2] * [B1] * [C1] = [w2] </h2>\n",
        "<h2> [A3] * [B1] * [C1] = [w3] </h2>\n",
        "<h2> [A1] * [B2] * [C2] = [w4] </h2>\n",
        "<h2> [A2] * [B2] * [C2] = [w5] </h2>\n",
        "<h2> [A3] * [B1] * [C2] = [w6] </h2>\n",
        "<h2> --------------------------------- </h2>\n",
        "<h2> [B1] * [C1] = [w7] </h2>\n",
        "<h2> [B2] * [C1] = [w8] </h2>\n",
        "<h2> [B1] * [C2] = [w9] </h2>\n",
        "<h2> [B2] * [C2] = [w10] </h2>\n",
        "<h2> [B1] * [C3] = [w11] </h2>\n",
        "<h2> [B2] * [C3] = [w12] </h2>"
      ],
      "metadata": {
        "colab": {
          "base_uri": "https://localhost:8080/",
          "height": 629
        },
        "id": "1Gy8PkACDeB_",
        "outputId": "10f414c7-be50-4d48-937d-0c6223f32089"
      },
      "execution_count": 30,
      "outputs": [
        {
          "output_type": "display_data",
          "data": {
            "text/plain": [
              "<IPython.core.display.HTML object>"
            ],
            "text/html": [
              "<h2> --------------------------------- </h2>\n",
              "<h2> [A1] * [B1] * [C1] = [w1] </h2>\n",
              "<h2> [A2] * [B1] * [C1] = [w2] </h2>\n",
              "<h2> [A3] * [B1] * [C1] = [w3] </h2>\n",
              "<h2> [A1] * [B2] * [C2] = [w4] </h2>\n",
              "<h2> [A2] * [B2] * [C2] = [w5] </h2>\n",
              "<h2> [A3] * [B1] * [C2] = [w6] </h2>\n",
              "<h2> --------------------------------- </h2>\n",
              "<h2> [B1] * [C1] = [w7] </h2>\n",
              "<h2> [B2] * [C1] = [w8] </h2>\n",
              "<h2> [B1] * [C2] = [w9] </h2>\n",
              "<h2> [B2] * [C2] = [w10] </h2>\n",
              "<h2> [B1] * [C3] = [w11] </h2>\n",
              "<h2> [B2] * [C3] = [w12] </h2>"
            ]
          },
          "metadata": {}
        }
      ]
    }
  ]
}