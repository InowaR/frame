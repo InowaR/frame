{
  "nbformat": 4,
  "nbformat_minor": 0,
  "metadata": {
    "colab": {
      "name": "grad.ipynb",
      "provenance": [],
      "authorship_tag": "ABX9TyNeURh6XtLw48wtPCdd5Gsn",
      "include_colab_link": true
    },
    "kernelspec": {
      "name": "python3",
      "display_name": "Python 3"
    },
    "language_info": {
      "name": "python"
    }
  },
  "cells": [
    {
      "cell_type": "markdown",
      "metadata": {
        "id": "view-in-github",
        "colab_type": "text"
      },
      "source": [
        "<a href=\"https://colab.research.google.com/github/InowaR/frame/blob/main/grad1.ipynb\" target=\"_parent\"><img src=\"https://colab.research.google.com/assets/colab-badge.svg\" alt=\"Open In Colab\"/></a>"
      ]
    },
    {
      "cell_type": "code",
      "execution_count": 122,
      "metadata": {
        "colab": {
          "base_uri": "https://localhost:8080/"
        },
        "id": "qMJJdde6SkKt",
        "outputId": "166fc4f7-7653-41a0-c804-2fd65c5a36b1"
      },
      "outputs": [
        {
          "output_type": "stream",
          "name": "stdout",
          "text": [
            "[100.  50.  25.  20.  10.   5.]\n",
            "------------------------\n",
            "[-50.  -37.5 -15.   -7.5  -7.5  -5. ]\n",
            "------------------------\n",
            "5\n",
            "0\n"
          ]
        }
      ],
      "source": [
        "import numpy as np\n",
        "c = 100\n",
        "w = np.array([1,2,4,5,10,20]) #<--------- 1 has the biggest influence than 20\n",
        "f = c/w\n",
        "print(f)\n",
        "print(\"------------------------\")\n",
        "grad = np.gradient(f)\n",
        "print(grad)\n",
        "print(\"------------------------\")\n",
        "max = np.argmax(grad)\n",
        "min = np.argmin(grad)\n",
        "print(max)\n",
        "print(min)    "
      ]
    }
  ]
}