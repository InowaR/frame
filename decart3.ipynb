{
  "nbformat": 4,
  "nbformat_minor": 0,
  "metadata": {
    "colab": {
      "name": "decart3.ipynb",
      "provenance": [],
      "collapsed_sections": [],
      "authorship_tag": "ABX9TyOAXxgXBQEKazER8G2C+Y6/",
      "include_colab_link": true
    },
    "kernelspec": {
      "name": "python3",
      "display_name": "Python 3"
    },
    "language_info": {
      "name": "python"
    }
  },
  "cells": [
    {
      "cell_type": "markdown",
      "metadata": {
        "id": "view-in-github",
        "colab_type": "text"
      },
      "source": [
        "<a href=\"https://colab.research.google.com/github/InowaR/frame/blob/main/decart3.ipynb\" target=\"_parent\"><img src=\"https://colab.research.google.com/assets/colab-badge.svg\" alt=\"Open In Colab\"/></a>"
      ]
    },
    {
      "cell_type": "code",
      "execution_count": 76,
      "metadata": {
        "colab": {
          "base_uri": "https://localhost:8080/"
        },
        "id": "DYSEH-ZBo4IE",
        "outputId": "bbf217c1-d4fb-4bf2-aa0f-77fa2a0b8add"
      },
      "outputs": [
        {
          "output_type": "stream",
          "name": "stdout",
          "text": [
            "   0  1  2  3\n",
            "0  2  2  2  2\n",
            "1  4  4  4  4\n",
            "----------input----------------------\n",
            "   0  1  2  3\n",
            "0  2  3  3  2\n",
            "1  7  7  4  7\n",
            "----------weight---------------------\n",
            "0    32\n",
            "1    34\n",
            "2    22\n",
            "3    32\n",
            "dtype: int64\n",
            "----------output---------------------\n"
          ]
        }
      ],
      "source": [
        "import pandas as pd\n",
        "import numpy as np\n",
        "import random\n",
        "a = np.array([2,4]) # number and value of inputs\n",
        "b = np.array([1,2,3,4]) # number and value of outputs\n",
        "w = np.array([len(a) * len(b)])\n",
        "w = np.arange(1, w+1) \n",
        "w = np.random.randint(1, 10, len(a) * len(b)) # number and value of weights\n",
        "w = w.reshape(len(b),len(a))\n",
        "temp = np.tile(a,len(b))\n",
        "temp = np.split(temp, len(b))\n",
        "temp = np.vstack(temp)\n",
        "frame_a = pd.DataFrame(temp.T)\n",
        "frame_b = pd.DataFrame(b)\n",
        "frame_w = pd.DataFrame(w.T)\n",
        "print (frame_a) \n",
        "print(\"----------input----------------------\")\n",
        "print(frame_w)\n",
        "print(\"----------weight---------------------\")\n",
        "a_mul = frame_a * frame_w\n",
        "final = a_mul.sum(axis ='index')\n",
        "print (final)\n",
        "print(\"----------output---------------------\")"
      ]
    },
    {
      "cell_type": "code",
      "source": [
        "temp2 = final\n",
        "out_l = np.array([2,3,4,5])\n",
        "temp3 = temp2.to_numpy()\n",
        "print(temp3)\n",
        "# end = np.array([1,1,1,1])\n",
        "# was = np.array([len(ne) * len(end)])\n",
        "# was = np.arange(1, was+1) \n",
        "# was = np.random.randint(1, 10, len(final_arr) * len(end)) # number and value of weights\n",
        "# was = was.reshape(len(was),len(ne))\n",
        "temp3 = np.tile(temp3, len(out_l))\n",
        "temp3 = np.split(temp3, len(out_l))\n",
        "temp3 = np.vstack(temp3)\n",
        "print(temp3)\n",
        "frame_inl = pd.DataFrame(temp3.T)\n",
        "print(frame_inl)"
      ],
      "metadata": {
        "colab": {
          "base_uri": "https://localhost:8080/"
        },
        "id": "lDgB39tJ0GMZ",
        "outputId": "cf854176-9f94-46e8-ea15-f3380d40c02a"
      },
      "execution_count": 77,
      "outputs": [
        {
          "output_type": "stream",
          "name": "stdout",
          "text": [
            "[32 34 22 32]\n",
            "[[32 34 22 32]\n",
            " [32 34 22 32]\n",
            " [32 34 22 32]\n",
            " [32 34 22 32]]\n",
            "    0   1   2   3\n",
            "0  32  32  32  32\n",
            "1  34  34  34  34\n",
            "2  22  22  22  22\n",
            "3  32  32  32  32\n"
          ]
        }
      ]
    },
    {
      "cell_type": "code",
      "source": [
        "%%html\n",
        "<a href=\"https://ibb.co/DKPHnYY\"><img src=\"https://i.ibb.co/JkWwPqq/image.png\" alt=\"image\" border=\"0\"></a>"
      ],
      "metadata": {
        "colab": {
          "base_uri": "https://localhost:8080/",
          "height": 381
        },
        "id": "rztC6GRlypJ6",
        "outputId": "b8480342-1eb8-4999-9682-019e7bd8dcf3"
      },
      "execution_count": null,
      "outputs": [
        {
          "output_type": "display_data",
          "data": {
            "text/plain": [
              "<IPython.core.display.HTML object>"
            ],
            "text/html": [
              "<a href=\"https://ibb.co/DKPHnYY\"><img src=\"https://i.ibb.co/JkWwPqq/image.png\" alt=\"image\" border=\"0\"></a>"
            ]
          },
          "metadata": {}
        }
      ]
    }
  ]
}