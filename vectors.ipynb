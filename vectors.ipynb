{
  "nbformat": 4,
  "nbformat_minor": 0,
  "metadata": {
    "colab": {
      "name": "vectors.ipynb",
      "provenance": [],
      "collapsed_sections": [],
      "authorship_tag": "ABX9TyNR9z9ijjDILH+UHmmYYR4c",
      "include_colab_link": true
    },
    "kernelspec": {
      "name": "python3",
      "display_name": "Python 3"
    },
    "language_info": {
      "name": "python"
    }
  },
  "cells": [
    {
      "cell_type": "markdown",
      "metadata": {
        "id": "view-in-github",
        "colab_type": "text"
      },
      "source": [
        "<a href=\"https://colab.research.google.com/github/InowaR/frame/blob/main/vectors.ipynb\" target=\"_parent\"><img src=\"https://colab.research.google.com/assets/colab-badge.svg\" alt=\"Open In Colab\"/></a>"
      ]
    },
    {
      "cell_type": "code",
      "execution_count": 37,
      "metadata": {
        "colab": {
          "base_uri": "https://localhost:8080/"
        },
        "id": "a2-3IIFJAU7d",
        "outputId": "7ebf7680-b951-4411-e4aa-ef4d2a692a37"
      },
      "outputs": [
        {
          "output_type": "stream",
          "name": "stdout",
          "text": [
            "[1 2 1 2]\n",
            "[1 1 2 2]\n",
            "[1 2 1 2]\n",
            "[ 0. -1.  0. -1.]\n",
            "[array([5, 6]), array([7, 8])]\n",
            "[array([1, 1]), array([2, 2])]\n",
            "[array([5, 6]), array([14, 16])]\n",
            "0    11\n",
            "1    30\n",
            "dtype: int64\n"
          ]
        }
      ],
      "source": [
        "import numpy as np\n",
        "import pandas as pd\n",
        "b = np.array([1,2])\n",
        "c = np.array([1,2])\n",
        "a = np.array([1,2])\n",
        "w = np.array([5,6,7,8])\n",
        "b_tile = np.tile(b, 2)\n",
        "c_repeat = np.repeat(c,2)\n",
        "a_tile = np.tile(a,2)\n",
        "print(b_tile)\n",
        "print(c_repeat)\n",
        "print(a_tile)\n",
        "b_new = np.ones(len(b))\n",
        "b_new = b_new - b\n",
        "b_new = np.tile(b_new, 2)\n",
        "print(b_new)\n",
        "w_new = np.split(w, 2)\n",
        "print(w_new)\n",
        "c_new = np.split(c_repeat, 2)\n",
        "print (c_new)\n",
        "c_weights = w * c_repeat\n",
        "c_weights = np.split(c_weights, 2)\n",
        "print(c_weights)\n",
        "c_weights = pd.DataFrame(c_weights)\n",
        "c_weights = c_weights.sum(axis=1)\n",
        "print(c_weights)"
      ]
    }
  ]
}