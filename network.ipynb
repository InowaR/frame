{
  "nbformat": 4,
  "nbformat_minor": 0,
  "metadata": {
    "colab": {
      "name": "network.ipynb",
      "provenance": [],
      "collapsed_sections": [],
      "authorship_tag": "ABX9TyNz7HRIrMrtejwdC/H3Pn52",
      "include_colab_link": true
    },
    "kernelspec": {
      "name": "python3",
      "display_name": "Python 3"
    },
    "language_info": {
      "name": "python"
    }
  },
  "cells": [
    {
      "cell_type": "markdown",
      "metadata": {
        "id": "view-in-github",
        "colab_type": "text"
      },
      "source": [
        "<a href=\"https://colab.research.google.com/github/InowaR/frame/blob/main/network.ipynb\" target=\"_parent\"><img src=\"https://colab.research.google.com/assets/colab-badge.svg\" alt=\"Open In Colab\"/></a>"
      ]
    },
    {
      "cell_type": "code",
      "execution_count": 5,
      "metadata": {
        "colab": {
          "base_uri": "https://localhost:8080/"
        },
        "id": "L0eEi6yylJCt",
        "outputId": "973779d4-6ec1-45ef-d24c-9e4b8b4414ae"
      },
      "outputs": [
        {
          "output_type": "execute_result",
          "data": {
            "text/plain": [
              "0     91\n",
              "1    123\n",
              "dtype: int64"
            ]
          },
          "metadata": {},
          "execution_count": 5
        }
      ],
      "source": [
        "import pandas as pd\n",
        "import numpy as np\n",
        "def layer():\n",
        "  a = np.array([1,2]) # number and value of inputs\n",
        "  b = np.array([1,2]) # number and value of outputs\n",
        "  w = np.array([len(a) * len(b)])\n",
        "  w = np.arange(1, w+1) \n",
        "  w = np.array([1,2,3,4]) # number and value of weights\n",
        "  w = w.reshape(len(b),len(a))\n",
        "  temp = np.tile(a,len(b))\n",
        "  temp = np.split(temp, len(b))\n",
        "  temp = np.vstack(temp)\n",
        "  frame_a = pd.DataFrame(temp.T)\n",
        "  frame_b = pd.DataFrame(b)\n",
        "  frame_w = pd.DataFrame(w.T) \n",
        "  a_mul = frame_a * frame_w\n",
        "  final = a_mul.sum(axis ='index')\n",
        "  return final\n",
        "def layer_second():\n",
        "  a = layer()\n",
        "  a = a.to_numpy()\n",
        "  b = np.array([1,2]) # number and value of outputs\n",
        "  w = np.array([len(a) * len(b)])\n",
        "  w = np.arange(1, w+1)\n",
        "  w = np.array([5,6,7,8]) # number and value of weights\n",
        "  w = w.reshape(len(b),len(a))\n",
        "  temp = np.tile(a,len(b))\n",
        "  temp = np.split(temp, len(b))\n",
        "  temp = np.vstack(temp)\n",
        "  frame_a = pd.DataFrame(temp.T)\n",
        "  frame_b = pd.DataFrame(b)\n",
        "  frame_w = pd.DataFrame(w.T) \n",
        "  a_mul = frame_a * frame_w\n",
        "  final_second = a_mul.sum(axis ='index')\n",
        "  return final_second\n",
        "layer_second()"
      ]
    },
    {
      "cell_type": "code",
      "source": [
        "b = np.array([1,2])\n",
        "c = np.array([1,2])\n",
        "a = np.array([1,2])\n",
        "w = np.array([5,6,7,8])\n",
        "b_tile = np.tile(b, 2)\n",
        "b_repeat = np.repeat(b,2)\n",
        "c_repeat = np.repeat(c, 2)\n",
        "a_tile = np.tile(a,2)\n",
        "b_new = np.ones(len(b))\n",
        "b_new = b_new - b\n",
        "b_new = np.repeat(b_new, 2)\n",
        "errors = np.array([9,23])\n",
        "errors = np.repeat(errors, 2)\n",
        "errors = pd.DataFrame(errors)\n",
        "c_errors = pd.DataFrame(c_repeat)\n",
        "ones = np.ones(len(w))\n",
        "ones = pd.DataFrame(ones)\n",
        "c_one = errors * c_errors * (ones - c_errors)\n",
        "c_new = np.split(c_repeat, 2)\n",
        "c_weights = w * c_repeat\n",
        "c_weights = np.split(c_weights, 2)\n",
        "c_weights = pd.DataFrame(c_weights)\n",
        "c_weights = c_weights.sum(axis=1)\n",
        "c_weights.to_numpy()\n",
        "c_weights = np.repeat(c_weights, 2)\n",
        "c_w = c_weights.to_numpy()\n",
        "c_w = pd.DataFrame(c_w)\n",
        "c_frame = c_one * c_w\n",
        "b_tile = pd.DataFrame(b_tile)\n",
        "c_repeat = pd.DataFrame(c_repeat)\n",
        "mul = c_repeat * b_tile\n",
        "print('--------[5,6,7,8 weights]--------')\n",
        "print(mul)\n",
        "a_tile = pd.DataFrame(a_tile)\n",
        "b_repeat = pd.DataFrame(b_repeat)\n",
        "b_new = pd.DataFrame(b_new)\n",
        "b_mul = b_repeat * b_new\n",
        "mul_second = a_tile * b_mul * c_frame\n",
        "print('--------[1,2,3,4 weights]--------')\n",
        "print(mul_second)"
      ],
      "metadata": {
        "colab": {
          "base_uri": "https://localhost:8080/"
        },
        "id": "9oUlK6hKle5R",
        "outputId": "5974fcef-1cda-4ee2-c11a-0b1ccdc346be"
      },
      "execution_count": 2,
      "outputs": [
        {
          "output_type": "stream",
          "name": "stdout",
          "text": [
            "--------[5,6,7,8 weights]--------\n",
            "   0\n",
            "0  1\n",
            "1  2\n",
            "2  2\n",
            "3  4\n",
            "--------[1,2,3,4 weights]--------\n",
            "        0\n",
            "0     0.0\n",
            "1     0.0\n",
            "2  2760.0\n",
            "3  5520.0\n"
          ]
        }
      ]
    },
    {
      "cell_type": "code",
      "source": [
        "import pandas as pd\n",
        "import numpy as np\n",
        "def layer():\n",
        "  a = np.array([1,2]) # number and value of inputs\n",
        "  b = np.array([1,2]) # number and value of outputs\n",
        "  w = np.array([len(a) * len(b)])\n",
        "  w = np.arange(1, w+1) \n",
        "  w = np.array([0,0,2760,5520]) # number and value of weights\n",
        "  w = w.reshape(len(b),len(a))\n",
        "  temp = np.tile(a,len(b))\n",
        "  temp = np.split(temp, len(b))\n",
        "  temp = np.vstack(temp)\n",
        "  frame_a = pd.DataFrame(temp.T)\n",
        "  frame_b = pd.DataFrame(b)\n",
        "  frame_w = pd.DataFrame(w.T) \n",
        "  a_mul = frame_a * frame_w\n",
        "  final = a_mul.sum(axis ='index')\n",
        "  return final\n",
        "def layer_second():\n",
        "  a = layer()\n",
        "  a = a.to_numpy()\n",
        "  b = np.array([1,2]) # number and value of outputs\n",
        "  w = np.array([len(a) * len(b)])\n",
        "  w = np.arange(1, w+1)\n",
        "  w = np.array([1,2,2,4]) # number and value of weights\n",
        "  w = w.reshape(len(b),len(a))\n",
        "  temp = np.tile(a,len(b))\n",
        "  temp = np.split(temp, len(b))\n",
        "  temp = np.vstack(temp)\n",
        "  frame_a = pd.DataFrame(temp.T)\n",
        "  frame_b = pd.DataFrame(b)\n",
        "  frame_w = pd.DataFrame(w.T) \n",
        "  a_mul = frame_a * frame_w\n",
        "  final_second = a_mul.sum(axis ='index')\n",
        "  return final_second\n",
        "layer_second()"
      ],
      "metadata": {
        "colab": {
          "base_uri": "https://localhost:8080/"
        },
        "id": "wAEUONHrllxf",
        "outputId": "9828bee7-64d8-48f4-fc76-35f458b428cc"
      },
      "execution_count": 3,
      "outputs": [
        {
          "output_type": "execute_result",
          "data": {
            "text/plain": [
              "0    27600\n",
              "1    55200\n",
              "dtype: int64"
            ]
          },
          "metadata": {},
          "execution_count": 3
        }
      ]
    }
  ]
}