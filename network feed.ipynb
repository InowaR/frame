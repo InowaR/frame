{
  "nbformat": 4,
  "nbformat_minor": 0,
  "metadata": {
    "colab": {
      "name": "Копия блокнота \"network1.ipynb\"",
      "provenance": [],
      "collapsed_sections": [],
      "authorship_tag": "ABX9TyP6NETyOXfLmRbiRMs/AL3v",
      "include_colab_link": true
    },
    "kernelspec": {
      "name": "python3",
      "display_name": "Python 3"
    },
    "language_info": {
      "name": "python"
    }
  },
  "cells": [
    {
      "cell_type": "markdown",
      "metadata": {
        "id": "view-in-github",
        "colab_type": "text"
      },
      "source": [
        "<a href=\"https://colab.research.google.com/github/InowaR/frame/blob/main/network%20feed.ipynb\" target=\"_parent\"><img src=\"https://colab.research.google.com/assets/colab-badge.svg\" alt=\"Open In Colab\"/></a>"
      ]
    },
    {
      "cell_type": "code",
      "execution_count": 217,
      "metadata": {
        "id": "L0eEi6yylJCt",
        "colab": {
          "base_uri": "https://localhost:8080/"
        },
        "outputId": "c7531827-9f4f-44a4-8e57-eb072e262a7a"
      },
      "outputs": [
        {
          "output_type": "execute_result",
          "data": {
            "text/plain": [
              "0    14\n",
              "1    32\n",
              "dtype: int64"
            ]
          },
          "metadata": {},
          "execution_count": 217
        }
      ],
      "source": [
        "import pandas as pd\n",
        "import numpy as np\n",
        "# --------------------------------------------------------------------\n",
        "input = np.array([1,2,3]) \n",
        "output_one = np.array([1,2])\n",
        "output_second = np.array([1,2,3])\n",
        "# delta = np.array([9,23]) # <-------------- [100 - 91], [123 - 100]\n",
        "# -------------------------------------------------------------------- \n",
        "def layer():\n",
        "  a = input # <-------------------------------------input\n",
        "  b = output_one # <--------------------------------output hidden\n",
        "  w = np.array([1,2,3,4,5,6]) # <-----------------------weights\n",
        "  w_reshape = w.reshape(len(a),len(b))\n",
        "  temp = np.tile(a,len(b))\n",
        "  temp = np.split(temp, len(a))\n",
        "  temp = np.vstack(temp)\n",
        "  frame_a = pd.DataFrame(temp.T)\n",
        "  frame_w = pd.DataFrame(w_reshape.T) \n",
        "  a_mul = frame_a * frame_w\n",
        "  a_mul = pd.DataFrame(a_mul.T)\n",
        "  a_mul = a_mul.to_numpy()\n",
        "  a_mul = a_mul.reshape(1, len(w))\n",
        "  a_mul = np.ravel(a_mul) # <---------------------- vector to division\n",
        "  a_mul = np.array_split(a_mul, len(b)) # <-------- division to results 14, 32\n",
        "  a_mul = pd.DataFrame(a_mul)\n",
        "  final = a_mul.sum(axis = 'columns')\n",
        "  return final\n",
        "layer()"
      ]
    },
    {
      "cell_type": "code",
      "source": [
        "def layer_second():\n",
        "  a = layer()\n",
        "  a = a.to_numpy() # <-------------------------------------input\n",
        "  b = output_second # <------------------------------------output\n",
        "  w = np.array([7,8,9,10,11,12]) # <-----------------------weights\n",
        "  w_reshape = w.reshape(len(a),len(b))\n",
        "  temp = np.tile(a,len(b))\n",
        "  temp = np.split(temp, len(a))\n",
        "  temp = np.vstack(temp)\n",
        "  frame_a = pd.DataFrame(temp.T)\n",
        "  frame_w = pd.DataFrame(w_reshape.T) \n",
        "  a_mul = frame_a * frame_w\n",
        "  a_mul = pd.DataFrame(a_mul.T)\n",
        "  a_mul = a_mul.to_numpy()\n",
        "  a_mul = a_mul.reshape(1, len(w))\n",
        "  a_mul = np.ravel(a_mul) # <---------------------- vector to division\n",
        "  a_mul = np.array_split(a_mul, len(b)) # <-------- division vector\n",
        "  a_mul = pd.DataFrame(a_mul)\n",
        "  final = a_mul.sum(axis = 'columns')\n",
        "  return final\n",
        "layer_second()"
      ],
      "metadata": {
        "colab": {
          "base_uri": "https://localhost:8080/"
        },
        "id": "loailVGQnfbP",
        "outputId": "bc507909-7b05-470f-8294-e7db2f479954"
      },
      "execution_count": 218,
      "outputs": [
        {
          "output_type": "execute_result",
          "data": {
            "text/plain": [
              "0    354\n",
              "1    446\n",
              "2    538\n",
              "dtype: int64"
            ]
          },
          "metadata": {},
          "execution_count": 218
        }
      ]
    }
  ]
}