{
  "nbformat": 4,
  "nbformat_minor": 0,
  "metadata": {
    "colab": {
      "name": "multiply.ipynb",
      "provenance": [],
      "authorship_tag": "ABX9TyM7pWlc8CzNQk8Ko+VoFsF3",
      "include_colab_link": true
    },
    "kernelspec": {
      "name": "python3",
      "display_name": "Python 3"
    },
    "language_info": {
      "name": "python"
    }
  },
  "cells": [
    {
      "cell_type": "markdown",
      "metadata": {
        "id": "view-in-github",
        "colab_type": "text"
      },
      "source": [
        "<a href=\"https://colab.research.google.com/github/InowaR/frame/blob/main/multiply.ipynb\" target=\"_parent\"><img src=\"https://colab.research.google.com/assets/colab-badge.svg\" alt=\"Open In Colab\"/></a>"
      ]
    },
    {
      "cell_type": "code",
      "execution_count": null,
      "metadata": {
        "colab": {
          "base_uri": "https://localhost:8080/"
        },
        "id": "vJXhjbkVE1je",
        "outputId": "980a04ea-b527-4f84-850f-8e0f73082402"
      },
      "outputs": [
        {
          "output_type": "stream",
          "name": "stdout",
          "text": [
            "   0  1\n",
            "0  1  5\n",
            "1  2  5\n",
            "2  3  5\n",
            "3  4  5\n",
            "4  1  6\n",
            "5  2  6\n",
            "6  3  6\n",
            "7  4  6\n"
          ]
        }
      ],
      "source": [
        "import numpy as np\n",
        "import pandas as pd\n",
        "x = np.array([1,2,3,4])\n",
        "y = np.array([5,6])\n",
        "result = np.transpose([np.tile(x, len(y)), np.repeat(y, len(x))])\n",
        "frame = pd.DataFrame(result)\n",
        "print(frame)"
      ]
    }
  ]
}