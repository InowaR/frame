{
  "nbformat": 4,
  "nbformat_minor": 0,
  "metadata": {
    "colab": {
      "name": "Копия блокнота \"Копия блокнота \"example.ipynb\"\"\"",
      "provenance": [],
      "collapsed_sections": [],
      "authorship_tag": "ABX9TyMpuTAbys8QUxIrdafj14bq",
      "include_colab_link": true
    },
    "kernelspec": {
      "name": "python3",
      "display_name": "Python 3"
    },
    "language_info": {
      "name": "python"
    }
  },
  "cells": [
    {
      "cell_type": "markdown",
      "metadata": {
        "id": "view-in-github",
        "colab_type": "text"
      },
      "source": [
        "<a href=\"https://colab.research.google.com/github/InowaR/frame/blob/main/second.ipynb\" target=\"_parent\"><img src=\"https://colab.research.google.com/assets/colab-badge.svg\" alt=\"Open In Colab\"/></a>"
      ]
    },
    {
      "cell_type": "code",
      "execution_count": 1,
      "metadata": {
        "colab": {
          "base_uri": "https://localhost:8080/"
        },
        "id": "DYSEH-ZBo4IE",
        "outputId": "21100a57-248d-46af-a894-91006f792820"
      },
      "outputs": [
        {
          "output_type": "execute_result",
          "data": {
            "text/plain": [
              "0    27600\n",
              "1    55200\n",
              "dtype: int64"
            ]
          },
          "metadata": {},
          "execution_count": 1
        }
      ],
      "source": [
        "import pandas as pd\n",
        "import numpy as np\n",
        "def layer():\n",
        "  a = np.array([1,2]) # number and value of inputs\n",
        "  b = np.array([1,2]) # number and value of outputs\n",
        "  w = np.array([len(a) * len(b)])\n",
        "  w = np.arange(1, w+1) \n",
        "  w = np.array([0,0,2760,5520]) # number and value of weights\n",
        "  w = w.reshape(len(b),len(a))\n",
        "  temp = np.tile(a,len(b))\n",
        "  temp = np.split(temp, len(b))\n",
        "  temp = np.vstack(temp)\n",
        "  frame_a = pd.DataFrame(temp.T)\n",
        "  frame_b = pd.DataFrame(b)\n",
        "  frame_w = pd.DataFrame(w.T) \n",
        "  a_mul = frame_a * frame_w\n",
        "  final = a_mul.sum(axis ='index')\n",
        "  return final\n",
        "def layer_second():\n",
        "  a = layer()\n",
        "  a = a.to_numpy()\n",
        "  b = np.array([1,2]) # number and value of outputs\n",
        "  w = np.array([len(a) * len(b)])\n",
        "  w = np.arange(1, w+1)\n",
        "  w = np.array([1,2,2,4]) # number and value of weights\n",
        "  w = w.reshape(len(b),len(a))\n",
        "  temp = np.tile(a,len(b))\n",
        "  temp = np.split(temp, len(b))\n",
        "  temp = np.vstack(temp)\n",
        "  frame_a = pd.DataFrame(temp.T)\n",
        "  frame_b = pd.DataFrame(b)\n",
        "  frame_w = pd.DataFrame(w.T) \n",
        "  a_mul = frame_a * frame_w\n",
        "  final_second = a_mul.sum(axis ='index')\n",
        "  return final_second\n",
        "layer_second()"
      ]
    }
  ]
}