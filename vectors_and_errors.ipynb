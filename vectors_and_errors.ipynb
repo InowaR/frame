{
  "nbformat": 4,
  "nbformat_minor": 0,
  "metadata": {
    "colab": {
      "name": "vectors and errors.ipynb",
      "provenance": [],
      "collapsed_sections": [],
      "authorship_tag": "ABX9TyM4DMp5pJxK2DRkRNaoIJp+",
      "include_colab_link": true
    },
    "kernelspec": {
      "name": "python3",
      "display_name": "Python 3"
    },
    "language_info": {
      "name": "python"
    }
  },
  "cells": [
    {
      "cell_type": "markdown",
      "metadata": {
        "id": "view-in-github",
        "colab_type": "text"
      },
      "source": [
        "<a href=\"https://colab.research.google.com/github/InowaR/frame/blob/main/vectors_and_errors.ipynb\" target=\"_parent\"><img src=\"https://colab.research.google.com/assets/colab-badge.svg\" alt=\"Open In Colab\"/></a>"
      ]
    },
    {
      "cell_type": "code",
      "execution_count": 74,
      "metadata": {
        "colab": {
          "base_uri": "https://localhost:8080/"
        },
        "id": "a2-3IIFJAU7d",
        "outputId": "b534d747-7e70-40f3-fb36-28813d86a036"
      },
      "outputs": [
        {
          "output_type": "stream",
          "name": "stdout",
          "text": [
            "[1 2 1 2] <---- b\n",
            "[1 1 2 2] <---- c\n",
            "[1 2 1 2] <---- a\n",
            "[ 0. -1.  0. -1.] <---- 1 - b\n",
            "[array([5, 6]), array([7, 8])]\n",
            "[array([1, 1]), array([2, 2])]\n",
            "[array([5, 6]), array([14, 16])]\n",
            "---------Cw-------------\n",
            "[11 11 30 30]\n"
          ]
        }
      ],
      "source": [
        "import numpy as np\n",
        "import pandas as pd\n",
        "b = np.array([1,2])\n",
        "c = np.array([1,2])\n",
        "a = np.array([1,2])\n",
        "w = np.array([5,6,7,8])\n",
        "b_tile = np.tile(b, 2)\n",
        "c_repeat = np.repeat(c, 2)\n",
        "a_tile = np.tile(a,2)\n",
        "print(b_tile, '<---- b')\n",
        "print(c_repeat, '<---- c')\n",
        "print(a_tile, '<---- a')\n",
        "b_new = np.ones(len(b))\n",
        "b_new = b_new - b\n",
        "b_new = np.tile(b_new, 2)\n",
        "print(b_new, '<---- 1 - b')\n",
        "w_new = np.split(w, 2)\n",
        "print(w_new)\n",
        "c_new = np.split(c_repeat, 2)\n",
        "print (c_new)\n",
        "c_weights = w * c_repeat\n",
        "c_weights = np.split(c_weights, 2)\n",
        "print(c_weights)\n",
        "c_weights = pd.DataFrame(c_weights)\n",
        "c_weights = c_weights.sum(axis=1)\n",
        "c_weights.to_numpy()\n",
        "c_weights = np.repeat(c_weights, 2)\n",
        "c_w = c_weights.to_numpy()\n",
        "print('---------Cw-------------')\n",
        "print(c_w)"
      ]
    },
    {
      "cell_type": "code",
      "source": [
        "c_repeat = pd.DataFrame(c_repeat)\n",
        "print(c_repeat)\n",
        "b_tile = pd.DataFrame(b_tile)\n",
        "print(b_tile)\n",
        "mul = c_repeat * b_tile\n",
        "print('---------B*C(5,6,7,8)-------------')\n",
        "print(mul)"
      ],
      "metadata": {
        "colab": {
          "base_uri": "https://localhost:8080/"
        },
        "id": "F_S2BtqHZ_7V",
        "outputId": "b0d53c20-ba9b-472b-ade7-285751beaa00"
      },
      "execution_count": 69,
      "outputs": [
        {
          "output_type": "stream",
          "name": "stdout",
          "text": [
            "   0\n",
            "0  1\n",
            "1  1\n",
            "2  2\n",
            "3  2\n",
            "   0\n",
            "0  1\n",
            "1  2\n",
            "2  1\n",
            "3  2\n",
            "---------B*C(5,6,7,8)-------------\n",
            "   0\n",
            "0  1\n",
            "1  2\n",
            "2  2\n",
            "3  4\n"
          ]
        }
      ]
    },
    {
      "cell_type": "code",
      "source": [
        "a_tile = pd.DataFrame(a_tile)\n",
        "print(a_tile)\n",
        "b_tile = pd.DataFrame(b_tile)\n",
        "print(b_tile)"
      ],
      "metadata": {
        "colab": {
          "base_uri": "https://localhost:8080/"
        },
        "id": "piEzMlC2qJIZ",
        "outputId": "9c5d99b5-3ea3-48fa-9d47-5e75c3c5f421"
      },
      "execution_count": 70,
      "outputs": [
        {
          "output_type": "stream",
          "name": "stdout",
          "text": [
            "   0\n",
            "0  1\n",
            "1  2\n",
            "2  1\n",
            "3  2\n",
            "   0\n",
            "0  1\n",
            "1  2\n",
            "2  1\n",
            "3  2\n"
          ]
        }
      ]
    },
    {
      "cell_type": "code",
      "source": [
        "# errors = np.array([1,2])\n",
        "# errors = pd.DataFrame(errors)\n",
        "# print (errors)\n",
        "# print('----------------------------------------')\n",
        "# c = pd.DataFrame(c)\n",
        "# print(c)\n",
        "# print('----------------------------------------')\n",
        "# ones = np.ones(len(w))\n",
        "# ones = pd.DataFrame(ones)\n",
        "# c_one = errors * c * (ones - c)\n",
        "# c_one = c_one.to_numpy()\n",
        "# print(c_one, '<---- dc * c * (1-с)')\n",
        "# print('----------------------------------------'))"
      ],
      "metadata": {
        "id": "0gK0jSEluUYp"
      },
      "execution_count": 72,
      "outputs": []
    }
  ]
}