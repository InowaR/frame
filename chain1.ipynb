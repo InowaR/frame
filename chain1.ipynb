{
  "nbformat": 4,
  "nbformat_minor": 0,
  "metadata": {
    "colab": {
      "name": "chain1.ipynb",
      "provenance": [],
      "authorship_tag": "ABX9TyNhdZv/GFNb0/CX1O2ZJbnR",
      "include_colab_link": true
    },
    "kernelspec": {
      "name": "python3",
      "display_name": "Python 3"
    },
    "language_info": {
      "name": "python"
    }
  },
  "cells": [
    {
      "cell_type": "markdown",
      "metadata": {
        "id": "view-in-github",
        "colab_type": "text"
      },
      "source": [
        "<a href=\"https://colab.research.google.com/github/InowaR/frame/blob/main/chain1.ipynb\" target=\"_parent\"><img src=\"https://colab.research.google.com/assets/colab-badge.svg\" alt=\"Open In Colab\"/></a>"
      ]
    },
    {
      "cell_type": "code",
      "execution_count": 1,
      "metadata": {
        "colab": {
          "base_uri": "https://localhost:8080/"
        },
        "id": "buAJWhDmpuiz",
        "outputId": "20b2cfb3-217a-4fe8-bda2-91ad1dd1d40a"
      },
      "outputs": [
        {
          "output_type": "stream",
          "name": "stdout",
          "text": [
            "0.2725584\n"
          ]
        }
      ],
      "source": [
        "import numpy as np\n",
        "a4 = 0.7\n",
        "w3 = 0.1\n",
        "w2 = 0.5\n",
        "w1 = 0.7\n",
        "w0 = 0.8\n",
        "c = 2 * (0.0196 - 0.9) \n",
        "w3_new = w3 - 0.5 * a4 * w2 * w1 * w0 * c\n",
        "print(w3_new)"
      ]
    }
  ]
}