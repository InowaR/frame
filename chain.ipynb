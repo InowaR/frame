{
  "nbformat": 4,
  "nbformat_minor": 0,
  "metadata": {
    "colab": {
      "name": "chain.ipynb",
      "provenance": [],
      "authorship_tag": "ABX9TyNBqIETEHGMsQjJ5dPkAY/A",
      "include_colab_link": true
    },
    "kernelspec": {
      "name": "python3",
      "display_name": "Python 3"
    },
    "language_info": {
      "name": "python"
    }
  },
  "cells": [
    {
      "cell_type": "markdown",
      "metadata": {
        "id": "view-in-github",
        "colab_type": "text"
      },
      "source": [
        "<a href=\"https://colab.research.google.com/github/InowaR/frame/blob/main/chain.ipynb\" target=\"_parent\"><img src=\"https://colab.research.google.com/assets/colab-badge.svg\" alt=\"Open In Colab\"/></a>"
      ]
    },
    {
      "cell_type": "code",
      "execution_count": 72,
      "metadata": {
        "colab": {
          "base_uri": "https://localhost:8080/"
        },
        "id": "ulUZE1k4l5Yg",
        "outputId": "c079ad6c-fbb0-4c16-dc1e-dfa1f25d706f"
      },
      "outputs": [
        {
          "output_type": "stream",
          "name": "stdout",
          "text": [
            "x3 = 0.5574097474249585\n",
            "0.44873674761929455\n",
            "0.5957496050629979\n",
            "0.3002473752797208\n",
            "x3_new = 0.5432190096642104\n"
          ]
        }
      ],
      "source": [
        "import numpy as np\n",
        "def sig(x):\n",
        " return 1/(1 + np.exp(-x))\n",
        "def rand_weights():\n",
        "  x0 = 0.2\n",
        "  w1 = 0.3\n",
        "  p1 = x0 * w1\n",
        "# --------------------1\n",
        "  x1 = sig(p1)\n",
        "  w2 = 0.6\n",
        "  p2 = x1 * w2\n",
        "# --------------------2\n",
        "  x2 = sig(p2)\n",
        "  w3 = 0.4\n",
        "  p3 = x2 * w3\n",
        "  x3 = sig(p3)\n",
        "  print(\"x3 =\",x3)\n",
        "# ---------------------------------------------\n",
        "  N = 1\n",
        "  Y = 0.9\n",
        "  E = 1/2*(Y - x3)**2\n",
        "# ---------------------------------------------\n",
        "  first = (Y - x3) * x3 * (x3 - 1) * x2\n",
        "  second = (Y - x3) * x3 * (x3 - 1) * w3 * x2 * (x2 - 1) * x1\n",
        "  third = (Y - x3) * x3 * (x3 - 1) * w3 * x2 * (x2 - 1) * w2 * x1 * (x1 - 1) * x0\n",
        "# ---------------------------------------------\n",
        "  w3_new = w3 - N * first\n",
        "  w2_new = w2 - N * second\n",
        "  w1_new = w1 - N * third\n",
        "  print(w3_new)\n",
        "  print(w2_new)\n",
        "  print(w1_new)\n",
        "# ---------------------------------------------\n",
        "def main():\n",
        "  x0 = 0.2\n",
        "  w1 = 0.44873674761929455\n",
        "  p1 = x0 * w1\n",
        "  # --------------------1\n",
        "  x1 = sig(p1)\n",
        "  w2 = 0.5978748025314989\n",
        "  p2 = x1 * w2\n",
        "  # --------------------2\n",
        "  x2 = sig(p2)\n",
        "  w3 = 0.3001236876398604\n",
        "  p3 = x2 * w3\n",
        "  x3 = sig(p3)\n",
        "  print(\"x3_new =\",x3)\n",
        "if __name__ == \"__main__\":\n",
        "  rand_weights()\n",
        "  main()"
      ]
    }
  ]
}