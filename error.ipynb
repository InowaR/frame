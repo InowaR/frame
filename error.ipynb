{
  "nbformat": 4,
  "nbformat_minor": 0,
  "metadata": {
    "colab": {
      "name": "Копия блокнота \"2_2_2.ipynb\"",
      "provenance": [],
      "collapsed_sections": [],
      "authorship_tag": "ABX9TyNzhWOICpEmCc6KyKKD5k+r",
      "include_colab_link": true
    },
    "kernelspec": {
      "name": "python3",
      "display_name": "Python 3"
    },
    "language_info": {
      "name": "python"
    }
  },
  "cells": [
    {
      "cell_type": "markdown",
      "metadata": {
        "id": "view-in-github",
        "colab_type": "text"
      },
      "source": [
        "<a href=\"https://colab.research.google.com/github/InowaR/frame/blob/main/error.ipynb\" target=\"_parent\"><img src=\"https://colab.research.google.com/assets/colab-badge.svg\" alt=\"Open In Colab\"/></a>"
      ]
    },
    {
      "cell_type": "code",
      "execution_count": 27,
      "metadata": {
        "colab": {
          "base_uri": "https://localhost:8080/"
        },
        "id": "a2-3IIFJAU7d",
        "outputId": "368fbea2-c478-4cd3-c7c7-7cc874013aa8"
      },
      "outputs": [
        {
          "output_type": "stream",
          "name": "stdout",
          "text": [
            "--------[5,6,7,8 weights]--------\n",
            "   0\n",
            "0  1\n",
            "1  2\n",
            "2  2\n",
            "3  4\n",
            "--------[1,2,3,4 weights]--------\n",
            "        0\n",
            "0     0.0\n",
            "1     0.0\n",
            "2  2760.0\n",
            "3  5520.0\n"
          ]
        }
      ],
      "source": [
        "import numpy as np\n",
        "import pandas as pd\n",
        "b = np.array([1,2])\n",
        "c = np.array([1,2])\n",
        "a = np.array([1,2])\n",
        "w = np.array([5,6,7,8])\n",
        "b_tile = np.tile(b, 2)\n",
        "b_repeat = np.repeat(b,2)\n",
        "c_repeat = np.repeat(c, 2)\n",
        "a_tile = np.tile(a,2)\n",
        "b_new = np.ones(len(b))\n",
        "b_new = b_new - b\n",
        "b_new = np.repeat(b_new, 2)\n",
        "errors = np.array([9,23])\n",
        "errors = np.repeat(errors, 2)\n",
        "errors = pd.DataFrame(errors)\n",
        "c_errors = pd.DataFrame(c_repeat)\n",
        "ones = np.ones(len(w))\n",
        "ones = pd.DataFrame(ones)\n",
        "c_one = errors * c_errors * (ones - c_errors)\n",
        "c_new = np.split(c_repeat, 2)\n",
        "c_weights = w * c_repeat\n",
        "c_weights = np.split(c_weights, 2)\n",
        "c_weights = pd.DataFrame(c_weights)\n",
        "c_weights = c_weights.sum(axis=1)\n",
        "c_weights.to_numpy()\n",
        "c_weights = np.repeat(c_weights, 2)\n",
        "c_w = c_weights.to_numpy()\n",
        "c_w = pd.DataFrame(c_w)\n",
        "c_frame = c_one * c_w\n",
        "b_tile = pd.DataFrame(b_tile)\n",
        "c_repeat = pd.DataFrame(c_repeat)\n",
        "mul = c_repeat * b_tile\n",
        "print('--------[5,6,7,8 weights]--------')\n",
        "print(mul)\n",
        "a_tile = pd.DataFrame(a_tile)\n",
        "b_repeat = pd.DataFrame(b_repeat)\n",
        "b_new = pd.DataFrame(b_new)\n",
        "b_mul = b_repeat * b_new\n",
        "mul_second = a_tile * b_mul * c_frame\n",
        "print('--------[1,2,3,4 weights]--------')\n",
        "print(mul_second)"
      ]
    }
  ]
}