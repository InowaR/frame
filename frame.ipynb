{
  "nbformat": 4,
  "nbformat_minor": 0,
  "metadata": {
    "colab": {
      "name": "frame.ipynb",
      "provenance": []
    },
    "kernelspec": {
      "name": "python3",
      "display_name": "Python 3"
    },
    "language_info": {
      "name": "python"
    }
  },
  "cells": [
    {
      "cell_type": "code",
      "execution_count": null,
      "metadata": {
        "colab": {
          "base_uri": "https://localhost:8080/"
        },
        "id": "SaNjrhO8Ba4F",
        "outputId": "bf2f59f1-89c2-478c-ab64-5b49a168aa3d"
      },
      "outputs": [
        {
          "output_type": "stream",
          "name": "stdout",
          "text": [
            "    w1   w2\n",
            "0  1.0  2.0\n",
            "1  3.0  4.0\n",
            "2  5.0  6.0\n",
            "3  7.0  8.0\n"
          ]
        }
      ],
      "source": [
        "import numpy as np\n",
        "import pandas as pd\n",
        "w = np.arange(1, 9, dtype = float).reshape(4, 2)\n",
        "frame_w = pd.DataFrame(w, columns = ['w1','w2'])\n",
        "print (frame_w)"
      ]
    },
    {
      "cell_type": "code",
      "source": [
        "input = np.arange(1, 9, dtype = float).reshape(4, 2)\n",
        "frame_a = pd.DataFrame(input, columns = ['a1', 'a2'])\n",
        "frame_a ['a1'] = 1\n",
        "frame_a ['a2'] = 1\n",
        "print (frame_a)"
      ],
      "metadata": {
        "colab": {
          "base_uri": "https://localhost:8080/"
        },
        "id": "sTTy3lrrCARK",
        "outputId": "fea17c35-df03-495e-ff8c-f9609ece8f7c"
      },
      "execution_count": null,
      "outputs": [
        {
          "output_type": "stream",
          "name": "stdout",
          "text": [
            "   a1  a2\n",
            "0   1   1\n",
            "1   1   1\n",
            "2   1   1\n",
            "3   1   1\n"
          ]
        }
      ]
    },
    {
      "cell_type": "code",
      "source": [
        "output = np.arange(1, 5, dtype = float).reshape(4, 1)\n",
        "frame_b = pd.DataFrame(output, columns = ['b1'])\n",
        "frame_b ['b1'] = 1\n",
        "print (frame_b)"
      ],
      "metadata": {
        "colab": {
          "base_uri": "https://localhost:8080/"
        },
        "id": "jXMrnu6_CYmq",
        "outputId": "9143d671-879d-4f58-c29e-ca8184616ecb"
      },
      "execution_count": null,
      "outputs": [
        {
          "output_type": "stream",
          "name": "stdout",
          "text": [
            "   b1\n",
            "0   1\n",
            "1   1\n",
            "2   1\n",
            "3   1\n"
          ]
        }
      ]
    }
  ]
}