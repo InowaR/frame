{
  "nbformat": 4,
  "nbformat_minor": 0,
  "metadata": {
    "colab": {
      "name": "grad.ipynb",
      "provenance": [],
      "authorship_tag": "ABX9TyPWmolnOZ3kEhUEdmiPuqZB",
      "include_colab_link": true
    },
    "kernelspec": {
      "name": "python3",
      "display_name": "Python 3"
    },
    "language_info": {
      "name": "python"
    }
  },
  "cells": [
    {
      "cell_type": "markdown",
      "metadata": {
        "id": "view-in-github",
        "colab_type": "text"
      },
      "source": [
        "<a href=\"https://colab.research.google.com/github/InowaR/frame/blob/main/grad.ipynb\" target=\"_parent\"><img src=\"https://colab.research.google.com/assets/colab-badge.svg\" alt=\"Open In Colab\"/></a>"
      ]
    },
    {
      "cell_type": "code",
      "execution_count": 108,
      "metadata": {
        "colab": {
          "base_uri": "https://localhost:8080/"
        },
        "id": "qMJJdde6SkKt",
        "outputId": "b10a6a8c-a0fb-43b3-a921-ac490810ee18"
      },
      "outputs": [
        {
          "output_type": "stream",
          "name": "stdout",
          "text": [
            "[  1.    1.5  -0.5  -1.   -2.5   0.    2.5   0.    1.5  59.  116. ]\n",
            "------------------------\n",
            "10\n",
            "4\n"
          ]
        }
      ],
      "source": [
        "import numpy as np\n",
        "f = np.array([1,2,4,1,2,-4,2,1,2,4,120])\n",
        "grad = np.gradient(f)\n",
        "print(grad)\n",
        "print(\"------------------------\")\n",
        "max = np.argmax(grad)\n",
        "min = np.argmin(grad)\n",
        "print(max)\n",
        "print(min)    \n"
      ]
    }
  ]
}