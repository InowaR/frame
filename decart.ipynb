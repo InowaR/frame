{
  "nbformat": 4,
  "nbformat_minor": 0,
  "metadata": {
    "colab": {
      "name": "decart.ipynb",
      "provenance": [],
      "collapsed_sections": [],
      "authorship_tag": "ABX9TyNee1pFwavl26JQcys66dEh",
      "include_colab_link": true
    },
    "kernelspec": {
      "name": "python3",
      "display_name": "Python 3"
    },
    "language_info": {
      "name": "python"
    }
  },
  "cells": [
    {
      "cell_type": "markdown",
      "metadata": {
        "id": "view-in-github",
        "colab_type": "text"
      },
      "source": [
        "<a href=\"https://colab.research.google.com/github/InowaR/frame/blob/main/decart.ipynb\" target=\"_parent\"><img src=\"https://colab.research.google.com/assets/colab-badge.svg\" alt=\"Open In Colab\"/></a>"
      ]
    },
    {
      "cell_type": "code",
      "execution_count": 160,
      "metadata": {
        "colab": {
          "base_uri": "https://localhost:8080/"
        },
        "id": "DYSEH-ZBo4IE",
        "outputId": "3707c8a3-4ce6-4ec6-87f6-82e8e2b81cf4"
      },
      "outputs": [
        {
          "output_type": "stream",
          "name": "stdout",
          "text": [
            "   0\n",
            "0  4\n",
            "1  6\n",
            "--------------------------------\n",
            "   0\n",
            "0  1\n",
            "1  2\n",
            "2  3\n",
            "3  4\n",
            "--------------------------------\n",
            "   0  1  2  3\n",
            "0  3  4  8  7\n",
            "1  5  7  1  9\n",
            "--------------------------------\n",
            "    0   1   2   3\n",
            "0  12  16  48  42\n",
            "1  20  28   6  54\n",
            "--------------------------------\n",
            "0    32\n",
            "1    44\n",
            "2    54\n",
            "3    96\n",
            "dtype: int64\n"
          ]
        }
      ],
      "source": [
        "import pandas as pd\n",
        "import numpy as np\n",
        "a = np.array([4,6]) # number and value of inputs\n",
        "b = np.array([1,2,3,4]) # number and value of outputs\n",
        "w = np.array([len(a) * len(b)])\n",
        "w = np.arange(1, w+1) \n",
        "w = np.array([3,5,4,7,8,1,7,9]) # number and value of weights\n",
        "w = w.reshape(len(b),len(a)) \n",
        "frame_a = pd.DataFrame(a)\n",
        "frame_b = pd.DataFrame(b)\n",
        "frame_w = pd.DataFrame(w.T)\n",
        "print(frame_a)\n",
        "print(\"--------------------------------\")\n",
        "print(frame_b)\n",
        "print(\"--------------------------------\")\n",
        "print(frame_w)\n",
        "print(\"--------------------------------\")\n",
        "a_new = np.repeat(a, len(b))\n",
        "a_new = a_new.reshape(len(b),len(a))\n",
        "a_repeat = pd.DataFrame(a_new)\n",
        "a_mul = a_repeat.T * frame_w\n",
        "print (a_mul)\n",
        "print(\"--------------------------------\")\n",
        "final = a_mul.sum(axis='index')\n",
        "print (final)\n"
      ]
    },
    {
      "cell_type": "code",
      "source": [
        "%%html\n",
        "<a href=\"https://ibb.co/DKPHnYY\"><img src=\"https://i.ibb.co/JkWwPqq/image.png\" alt=\"image\" border=\"0\"></a>"
      ],
      "metadata": {
        "colab": {
          "base_uri": "https://localhost:8080/",
          "height": 381
        },
        "id": "rztC6GRlypJ6",
        "outputId": "b8480342-1eb8-4999-9682-019e7bd8dcf3"
      },
      "execution_count": 70,
      "outputs": [
        {
          "output_type": "display_data",
          "data": {
            "text/plain": [
              "<IPython.core.display.HTML object>"
            ],
            "text/html": [
              "<a href=\"https://ibb.co/DKPHnYY\"><img src=\"https://i.ibb.co/JkWwPqq/image.png\" alt=\"image\" border=\"0\"></a>"
            ]
          },
          "metadata": {}
        }
      ]
    }
  ]
}