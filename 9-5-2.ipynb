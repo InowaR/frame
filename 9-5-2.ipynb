{
  "nbformat": 4,
  "nbformat_minor": 0,
  "metadata": {
    "colab": {
      "name": "Копия блокнота \"Копия блокнота \"network1.ipynb\"\"",
      "provenance": [],
      "collapsed_sections": [],
      "authorship_tag": "ABX9TyOl6R4lWih1NrBj5v8TaXQ9",
      "include_colab_link": true
    },
    "kernelspec": {
      "name": "python3",
      "display_name": "Python 3"
    },
    "language_info": {
      "name": "python"
    }
  },
  "cells": [
    {
      "cell_type": "markdown",
      "metadata": {
        "id": "view-in-github",
        "colab_type": "text"
      },
      "source": [
        "<a href=\"https://colab.research.google.com/github/InowaR/frame/blob/main/9-5-2.ipynb\" target=\"_parent\"><img src=\"https://colab.research.google.com/assets/colab-badge.svg\" alt=\"Open In Colab\"/></a>"
      ]
    },
    {
      "cell_type": "code",
      "execution_count": 5,
      "metadata": {
        "id": "L0eEi6yylJCt",
        "colab": {
          "base_uri": "https://localhost:8080/"
        },
        "outputId": "77a67f87-2231-4006-b471-11f9c5831c3d"
      },
      "outputs": [
        {
          "output_type": "execute_result",
          "data": {
            "text/plain": [
              "0     240\n",
              "1     645\n",
              "2    1050\n",
              "3    1455\n",
              "4    1860\n",
              "dtype: int64"
            ]
          },
          "metadata": {},
          "execution_count": 5
        }
      ],
      "source": [
        "import pandas as pd\n",
        "import numpy as np\n",
        "# --------------------------------------------------------------------\n",
        "input = np.array([1,2,3,4,5,6,7,8,9]) \n",
        "output_one = np.array([1,2,3,4,5])\n",
        "output_second = np.array([1,2])\n",
        "# -------------------------------------------------------------------- \n",
        "def layer():\n",
        "  a = input # <-------------------------------------input\n",
        "  b = output_one # <--------------------------------output hidden\n",
        "  w = np.arange(45) # <-----------------------weights\n",
        "  w_reshape = w.reshape(len(a),len(b))\n",
        "  temp = np.tile(a,len(b))\n",
        "  temp = np.split(temp, len(a))\n",
        "  temp = np.vstack(temp)\n",
        "  frame_a = pd.DataFrame(temp.T)\n",
        "  frame_w = pd.DataFrame(w_reshape.T) \n",
        "  a_mul = frame_a * frame_w\n",
        "  a_mul = pd.DataFrame(a_mul.T)\n",
        "  a_mul = a_mul.to_numpy()\n",
        "  a_mul = a_mul.reshape(1, len(w))\n",
        "  a_mul = np.ravel(a_mul) # <---------------------- vector to division\n",
        "  a_mul = np.array_split(a_mul, len(b)) # <-------- division to results 14, 32\n",
        "  a_mul = pd.DataFrame(a_mul)\n",
        "  final = a_mul.sum(axis = 'columns')\n",
        "  return final\n",
        "layer()"
      ]
    },
    {
      "cell_type": "code",
      "source": [
        "def layer_second():\n",
        "  a = layer()\n",
        "  a = a.to_numpy() # <-------------------------------------input\n",
        "  b = output_second # <------------------------------------output\n",
        "  w = np.arange(10) # <-----------------------weights\n",
        "  w_reshape = w.reshape(len(a),len(b))\n",
        "  temp = np.tile(a,len(b))\n",
        "  temp = np.split(temp, len(a))\n",
        "  temp = np.vstack(temp)\n",
        "  frame_a = pd.DataFrame(temp.T)\n",
        "  frame_w = pd.DataFrame(w_reshape.T) \n",
        "  a_mul = frame_a * frame_w\n",
        "  a_mul = pd.DataFrame(a_mul.T)\n",
        "  a_mul = a_mul.to_numpy()\n",
        "  a_mul = a_mul.reshape(1, len(w))\n",
        "  a_mul = np.ravel(a_mul) # <---------------------- vector to division\n",
        "  a_mul = np.array_split(a_mul, len(b)) # <-------- division vector\n",
        "  a_mul = pd.DataFrame(a_mul)\n",
        "  final = a_mul.sum(axis = 'columns')\n",
        "  return final\n",
        "layer_second()"
      ],
      "metadata": {
        "colab": {
          "base_uri": "https://localhost:8080/"
        },
        "id": "loailVGQnfbP",
        "outputId": "ecee2285-2038-4b32-c1d8-94ca11a9776f"
      },
      "execution_count": 6,
      "outputs": [
        {
          "output_type": "execute_result",
          "data": {
            "text/plain": [
              "0    14550\n",
              "1    40800\n",
              "dtype: int64"
            ]
          },
          "metadata": {},
          "execution_count": 6
        }
      ]
    }
  ]
}