{
  "nbformat": 4,
  "nbformat_minor": 0,
  "metadata": {
    "colab": {
      "name": "2_2_2.ipynb",
      "provenance": [],
      "collapsed_sections": [],
      "authorship_tag": "ABX9TyO3ev/+Jl0HHYlwDR6QvRVh",
      "include_colab_link": true
    },
    "kernelspec": {
      "name": "python3",
      "display_name": "Python 3"
    },
    "language_info": {
      "name": "python"
    }
  },
  "cells": [
    {
      "cell_type": "markdown",
      "metadata": {
        "id": "view-in-github",
        "colab_type": "text"
      },
      "source": [
        "<a href=\"https://colab.research.google.com/github/InowaR/frame/blob/main/2_2_2.ipynb\" target=\"_parent\"><img src=\"https://colab.research.google.com/assets/colab-badge.svg\" alt=\"Open In Colab\"/></a>"
      ]
    },
    {
      "cell_type": "code",
      "execution_count": 146,
      "metadata": {
        "colab": {
          "base_uri": "https://localhost:8080/"
        },
        "id": "a2-3IIFJAU7d",
        "outputId": "4a87eb61-7ca8-4196-da3e-28992fafb69f"
      },
      "outputs": [
        {
          "output_type": "stream",
          "name": "stdout",
          "text": [
            "[1 2 1 2] <---- b\n",
            "[1 1 2 2] <---- c\n",
            "[1 2 1 2] <---- a\n",
            "[ 0.  0. -1. -1.] <---- 1 - b\n",
            "------------errors---------\n",
            "      0\n",
            "0   0.0\n",
            "1   0.0\n",
            "2 -40.0\n",
            "3 -40.0\n",
            "---------Cw-------------\n",
            "    0\n",
            "0  11\n",
            "1  11\n",
            "2  30\n",
            "3  30\n",
            "---------[C2]-------------\n",
            "        0\n",
            "0     0.0\n",
            "1     0.0\n",
            "2 -1200.0\n",
            "3 -1200.0\n"
          ]
        }
      ],
      "source": [
        "import numpy as np\n",
        "import pandas as pd\n",
        "b = np.array([1,2])\n",
        "c = np.array([1,2])\n",
        "a = np.array([1,2])\n",
        "w = np.array([5,6,7,8])\n",
        "b_tile = np.tile(b, 2)\n",
        "b_repeat = np.repeat(b,2)\n",
        "c_repeat = np.repeat(c, 2)\n",
        "a_tile = np.tile(a,2)\n",
        "print(b_tile, '<---- b')\n",
        "print(c_repeat, '<---- c')\n",
        "print(a_tile, '<---- a')\n",
        "b_new = np.ones(len(b))\n",
        "b_new = b_new - b\n",
        "b_new = np.repeat(b_new, 2)\n",
        "print(b_new, '<---- 1 - b')\n",
        "print ('------------errors---------')\n",
        "errors = np.array([10,20])\n",
        "errors = np.repeat(errors, 2)\n",
        "errors = pd.DataFrame(errors)\n",
        "c_errors = pd.DataFrame(c_repeat)\n",
        "ones = np.ones(len(w))\n",
        "ones = pd.DataFrame(ones)\n",
        "c_one = errors * c_errors * (ones - c_errors)\n",
        "print(c_one)\n",
        "c_new = np.split(c_repeat, 2)\n",
        "c_weights = w * c_repeat\n",
        "c_weights = np.split(c_weights, 2)\n",
        "c_weights = pd.DataFrame(c_weights)\n",
        "c_weights = c_weights.sum(axis=1)\n",
        "c_weights.to_numpy()\n",
        "c_weights = np.repeat(c_weights, 2)\n",
        "c_w = c_weights.to_numpy()\n",
        "print('---------Cw-------------')\n",
        "c_w = pd.DataFrame(c_w)\n",
        "print(c_w)\n",
        "c_frame = c_one * c_w\n",
        "print('---------[C2]-------------')\n",
        "print(c_frame)"
      ]
    },
    {
      "cell_type": "code",
      "source": [
        "b_tile = pd.DataFrame(b_tile)\n",
        "print('--------[B1]--------')\n",
        "print(b_tile)\n",
        "c_repeat = pd.DataFrame(c_repeat)\n",
        "print('--------[C1]--------')\n",
        "print(c_repeat)\n",
        "mul = c_repeat * b_tile\n",
        "print('--------[B1] * [C1] = [5,6,7,8 weights] -------------')\n",
        "print(mul)"
      ],
      "metadata": {
        "colab": {
          "base_uri": "https://localhost:8080/"
        },
        "id": "F_S2BtqHZ_7V",
        "outputId": "cef0b34d-dd64-49f9-a5bf-1c06305fa9ba"
      },
      "execution_count": 149,
      "outputs": [
        {
          "output_type": "stream",
          "name": "stdout",
          "text": [
            "--------[B1]--------\n",
            "   0\n",
            "0  1\n",
            "1  2\n",
            "2  1\n",
            "3  2\n",
            "--------[C1]--------\n",
            "   0\n",
            "0  1\n",
            "1  1\n",
            "2  2\n",
            "3  2\n",
            "--------[B1] * [C1] = [5,6,7,8 weights] -------------\n",
            "   0\n",
            "0  1\n",
            "1  2\n",
            "2  2\n",
            "3  4\n"
          ]
        }
      ]
    },
    {
      "cell_type": "code",
      "source": [
        "print ('------------errors---------')\n",
        "errors = np.array([10,20])\n",
        "errors = np.repeat(errors, 2)\n",
        "errors = pd.DataFrame(errors)\n",
        "print(errors)\n",
        "print('----------------------------------------')\n",
        "c_errors = pd.DataFrame(c_repeat)\n",
        "print(c_errors)\n",
        "print('----------------------------------------')\n",
        "ones = np.ones(len(w))\n",
        "ones = pd.DataFrame(ones)\n",
        "print(ones)\n",
        "print('----------------------------------------')\n",
        "c_one = errors * c_errors * (ones - c_errors)\n",
        "print(c_one)\n",
        "print('----------------------------------------')"
      ],
      "metadata": {
        "colab": {
          "base_uri": "https://localhost:8080/"
        },
        "id": "0gK0jSEluUYp",
        "outputId": "59d8705d-c3b8-440c-9111-8137ea0a5b04"
      },
      "execution_count": 150,
      "outputs": [
        {
          "output_type": "stream",
          "name": "stdout",
          "text": [
            "------------errors---------\n",
            "    0\n",
            "0  10\n",
            "1  10\n",
            "2  20\n",
            "3  20\n",
            "----------------------------------------\n",
            "   0\n",
            "0  1\n",
            "1  1\n",
            "2  2\n",
            "3  2\n",
            "----------------------------------------\n",
            "     0\n",
            "0  1.0\n",
            "1  1.0\n",
            "2  1.0\n",
            "3  1.0\n",
            "----------------------------------------\n",
            "      0\n",
            "0   0.0\n",
            "1   0.0\n",
            "2 -40.0\n",
            "3 -40.0\n",
            "----------------------------------------\n"
          ]
        }
      ]
    },
    {
      "cell_type": "code",
      "source": [
        "a_tile = pd.DataFrame(a_tile)\n",
        "print('--------[A2]--------')\n",
        "print(a_tile)\n",
        "b_repeat = pd.DataFrame(b_repeat)\n",
        "b_new = pd.DataFrame(b_new)\n",
        "b_mul = b_repeat * b_new\n",
        "print('--------[B2]--------')\n",
        "print(b_mul)\n",
        "mul_second = a_tile * b_mul * c_frame\n",
        "print('--------[A2] * [B2] * [C2] = [1,2,3,4 weights]--------')\n",
        "print(mul_second)"
      ],
      "metadata": {
        "colab": {
          "base_uri": "https://localhost:8080/"
        },
        "id": "GNrKG8fO8_sL",
        "outputId": "09adb591-3ab5-47f2-d085-abee7d3f87ba"
      },
      "execution_count": 151,
      "outputs": [
        {
          "output_type": "stream",
          "name": "stdout",
          "text": [
            "--------[A2]--------\n",
            "   0\n",
            "0  1\n",
            "1  2\n",
            "2  1\n",
            "3  2\n",
            "--------[B2]--------\n",
            "     0\n",
            "0  0.0\n",
            "1  0.0\n",
            "2 -2.0\n",
            "3 -2.0\n",
            "--------[A2] * [B2] * [C2] = [1,2,3,4 weights]--------\n",
            "        0\n",
            "0     0.0\n",
            "1     0.0\n",
            "2  2400.0\n",
            "3  4800.0\n"
          ]
        }
      ]
    },
    {
      "cell_type": "code",
      "source": [
        "%%html \n",
        "<h2> --------------------------------- </h2>\n",
        "<h2> [A1] * [B1] * [C1] = [w1] </h2>\n",
        "<h2> [A2] * [B1] * [C1] = [w2] </h2>\n",
        "<h2> [A1] * [B2] * [C2] = [w3] </h2>\n",
        "<h2> [A2] * [B2] * [C2] = [w4] </h2>\n",
        "<h2> --------------------------------- </h2>\n",
        "<h2> [B1] * [C1] = [w5] </h2>\n",
        "<h2> [B2] * [C1] = [w6] </h2>\n",
        "<h2> [B1] * [C2] = [w7] </h2>\n",
        "<h2> [B2] * [C2] = [w8] </h2>"
      ],
      "metadata": {
        "colab": {
          "base_uri": "https://localhost:8080/",
          "height": 456
        },
        "id": "1Gy8PkACDeB_",
        "outputId": "8bd71edb-f2b0-48a1-a42c-1fa104b0f2fb"
      },
      "execution_count": 172,
      "outputs": [
        {
          "output_type": "display_data",
          "data": {
            "text/plain": [
              "<IPython.core.display.HTML object>"
            ],
            "text/html": [
              "<h2> --------------------------------- </h2>\n",
              "<h2> [A1] * [B1] * [C1] = [w1] </h2>\n",
              "<h2> [A2] * [B1] * [C1] = [w2] </h2>\n",
              "<h2> [A1] * [B2] * [C2] = [w3] </h2>\n",
              "<h2> [A2] * [B2] * [C2] = [w4] </h2>\n",
              "<h2> --------------------------------- </h2>\n",
              "<h2> [B1] * [C1] = [w5] </h2>\n",
              "<h2> [B2] * [C1] = [w6] </h2>\n",
              "<h2> [B1] * [C2] = [w7] </h2>\n",
              "<h2> [B2] * [C2] = [w8] </h2>"
            ]
          },
          "metadata": {}
        }
      ]
    }
  ]
}