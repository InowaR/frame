{
  "nbformat": 4,
  "nbformat_minor": 0,
  "metadata": {
    "colab": {
      "name": "decart1.ipynb\"",
      "provenance": [],
      "collapsed_sections": [],
      "authorship_tag": "ABX9TyNL/kPnkuc/2r1fT7wdznJ8",
      "include_colab_link": true
    },
    "kernelspec": {
      "name": "python3",
      "display_name": "Python 3"
    },
    "language_info": {
      "name": "python"
    }
  },
  "cells": [
    {
      "cell_type": "markdown",
      "metadata": {
        "id": "view-in-github",
        "colab_type": "text"
      },
      "source": [
        "<a href=\"https://colab.research.google.com/github/InowaR/frame/blob/main/decart1.ipynb\" target=\"_parent\"><img src=\"https://colab.research.google.com/assets/colab-badge.svg\" alt=\"Open In Colab\"/></a>"
      ]
    },
    {
      "cell_type": "code",
      "execution_count": 52,
      "metadata": {
        "colab": {
          "base_uri": "https://localhost:8080/"
        },
        "id": "DYSEH-ZBo4IE",
        "outputId": "0eb006e3-0afc-4709-cb85-05311910d1a6"
      },
      "outputs": [
        {
          "output_type": "stream",
          "name": "stdout",
          "text": [
            "   0  1  2  3\n",
            "0  2  2  2  2\n",
            "1  4  4  4  4\n",
            "----------input----------------------\n",
            "   0  1  2  3\n",
            "0  3  4  8  7\n",
            "1  5  7  1  9\n",
            "----------weight---------------------\n",
            "0    26\n",
            "1    36\n",
            "2    20\n",
            "3    50\n",
            "dtype: int64\n",
            "----------output---------------------\n"
          ]
        }
      ],
      "source": [
        "import pandas as pd\n",
        "import numpy as np\n",
        "a = np.array([2,4]) # number and value of inputs\n",
        "b = np.array([1,2,3,4]) # number and value of outputs\n",
        "w = np.array([len(a) * len(b)])\n",
        "w = np.arange(1, w+1) \n",
        "w = np.array([3,5,4,7,8,1,7,9]) # number and value of weights\n",
        "w = w.reshape(len(b),len(a))\n",
        "temp = np.tile(a,len(b))\n",
        "temp = np.split(temp, len(b))\n",
        "temp = np.vstack(temp)\n",
        "frame_a = pd.DataFrame(temp.T)\n",
        "frame_b = pd.DataFrame(b)\n",
        "frame_w = pd.DataFrame(w.T)\n",
        "print (frame_a) \n",
        "print(\"----------input----------------------\")\n",
        "print(frame_w)\n",
        "print(\"----------weight---------------------\")\n",
        "a_mul = frame_a * frame_w\n",
        "final = a_mul.sum(axis ='index')\n",
        "print (final)\n",
        "print(\"----------output---------------------\")"
      ]
    },
    {
      "cell_type": "code",
      "source": [
        "%%html\n",
        "<a href=\"https://ibb.co/DKPHnYY\"><img src=\"https://i.ibb.co/JkWwPqq/image.png\" alt=\"image\" border=\"0\"></a>"
      ],
      "metadata": {
        "colab": {
          "base_uri": "https://localhost:8080/",
          "height": 381
        },
        "id": "rztC6GRlypJ6",
        "outputId": "b8480342-1eb8-4999-9682-019e7bd8dcf3"
      },
      "execution_count": null,
      "outputs": [
        {
          "output_type": "display_data",
          "data": {
            "text/plain": [
              "<IPython.core.display.HTML object>"
            ],
            "text/html": [
              "<a href=\"https://ibb.co/DKPHnYY\"><img src=\"https://i.ibb.co/JkWwPqq/image.png\" alt=\"image\" border=\"0\"></a>"
            ]
          },
          "metadata": {}
        }
      ]
    }
  ]
}