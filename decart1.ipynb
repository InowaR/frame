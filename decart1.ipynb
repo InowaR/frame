{
  "nbformat": 4,
  "nbformat_minor": 0,
  "metadata": {
    "colab": {
      "name": "decart1.ipynb",
      "provenance": [],
      "collapsed_sections": [],
      "authorship_tag": "ABX9TyOoyMHNmkAOgx4In7hlXbuf",
      "include_colab_link": true
    },
    "kernelspec": {
      "name": "python3",
      "display_name": "Python 3"
    },
    "language_info": {
      "name": "python"
    }
  },
  "cells": [
    {
      "cell_type": "markdown",
      "metadata": {
        "id": "view-in-github",
        "colab_type": "text"
      },
      "source": [
        "<a href=\"https://colab.research.google.com/github/InowaR/frame/blob/main/decart1.ipynb\" target=\"_parent\"><img src=\"https://colab.research.google.com/assets/colab-badge.svg\" alt=\"Open In Colab\"/></a>"
      ]
    },
    {
      "cell_type": "code",
      "execution_count": 231,
      "metadata": {
        "colab": {
          "base_uri": "https://localhost:8080/"
        },
        "id": "DYSEH-ZBo4IE",
        "outputId": "4d0b958c-4ffd-493c-8d82-812df79c5dfa"
      },
      "outputs": [
        {
          "output_type": "stream",
          "name": "stdout",
          "text": [
            "   0\n",
            "0  2\n",
            "1  4\n",
            "--------------------------------\n",
            "   0\n",
            "0  1\n",
            "1  2\n",
            "2  3\n",
            "3  4\n",
            "--------------------------------\n",
            "   0  1  2  3\n",
            "0  3  4  8  7\n",
            "1  5  7  1  9\n",
            "--------------------------------\n",
            "    0   1   2   3\n",
            "0   6 NaN NaN NaN\n",
            "1  20 NaN NaN NaN\n",
            "--------------------------------\n",
            "0    26.0\n",
            "1     0.0\n",
            "2     0.0\n",
            "3     0.0\n",
            "dtype: float64\n",
            "[[2 4]\n",
            " [2 4]]\n"
          ]
        }
      ],
      "source": [
        "import pandas as pd\n",
        "import numpy as np\n",
        "a = np.array([2,4]) # number and value of inputs\n",
        "b = np.array([1,2,3,4]) # number and value of outputs\n",
        "w = np.array([len(a) * len(b)])\n",
        "w = np.arange(1, w+1) \n",
        "w = np.array([3,5,4,7,8,1,7,9]) # number and value of weights\n",
        "w = w.reshape(len(b),len(a)) \n",
        "frame_a = pd.DataFrame(a)\n",
        "frame_b = pd.DataFrame(b)\n",
        "frame_w = pd.DataFrame(w.T)\n",
        "print(frame_a)\n",
        "print(\"--------------------------------\")\n",
        "print(frame_b)\n",
        "print(\"--------------------------------\")\n",
        "print(frame_w)\n",
        "print(\"--------------------------------\")\n",
        "\n",
        "a_mul = frame_a * frame_w\n",
        "print (a_mul)\n",
        "print(\"--------------------------------\")\n",
        "final = a_mul.sum(axis ='index')\n",
        "print (final)\n",
        "g = np.array([[2,4],[2,4]])\n",
        "print (g)"
      ]
    },
    {
      "cell_type": "code",
      "source": [
        "%%html\n",
        "<a href=\"https://ibb.co/DKPHnYY\"><img src=\"https://i.ibb.co/JkWwPqq/image.png\" alt=\"image\" border=\"0\"></a>"
      ],
      "metadata": {
        "colab": {
          "base_uri": "https://localhost:8080/",
          "height": 381
        },
        "id": "rztC6GRlypJ6",
        "outputId": "b8480342-1eb8-4999-9682-019e7bd8dcf3"
      },
      "execution_count": 70,
      "outputs": [
        {
          "output_type": "display_data",
          "data": {
            "text/plain": [
              "<IPython.core.display.HTML object>"
            ],
            "text/html": [
              "<a href=\"https://ibb.co/DKPHnYY\"><img src=\"https://i.ibb.co/JkWwPqq/image.png\" alt=\"image\" border=\"0\"></a>"
            ]
          },
          "metadata": {}
        }
      ]
    }
  ]
}