{
  "nbformat": 4,
  "nbformat_minor": 0,
  "metadata": {
    "colab": {
      "name": "newframe.ipynb",
      "provenance": [],
      "authorship_tag": "ABX9TyOWgElva/20MDhSmypbtrdN",
      "include_colab_link": true
    },
    "kernelspec": {
      "name": "python3",
      "display_name": "Python 3"
    },
    "language_info": {
      "name": "python"
    }
  },
  "cells": [
    {
      "cell_type": "markdown",
      "metadata": {
        "id": "view-in-github",
        "colab_type": "text"
      },
      "source": [
        "<a href=\"https://colab.research.google.com/github/InowaR/frame/blob/main/newframe.ipynb\" target=\"_parent\"><img src=\"https://colab.research.google.com/assets/colab-badge.svg\" alt=\"Open In Colab\"/></a>"
      ]
    },
    {
      "cell_type": "code",
      "execution_count": 1,
      "metadata": {
        "colab": {
          "base_uri": "https://localhost:8080/"
        },
        "id": "SaNjrhO8Ba4F",
        "outputId": "af5d2214-2eb8-49b4-cde8-45927c82a890"
      },
      "outputs": [
        {
          "output_type": "stream",
          "name": "stdout",
          "text": [
            "    w1   w2\n",
            "0  1.0  2.0\n",
            "1  3.0  4.0\n",
            "2  5.0  6.0\n",
            "3  7.0  8.0\n"
          ]
        }
      ],
      "source": [
        "import numpy as np\n",
        "import pandas as pd\n",
        "w = np.arange(1, 9, dtype = float).reshape(4, 2)\n",
        "frame_w = pd.DataFrame(w, columns = ['w1','w2'])\n",
        "print (frame_w)"
      ]
    },
    {
      "cell_type": "code",
      "source": [
        "input = np.arange(1, 9, dtype = float).reshape(4, 2)\n",
        "frame_a = pd.DataFrame(input, columns = ['a1', 'a2'])\n",
        "frame_a ['a1'] = 1\n",
        "frame_a ['a2'] = 1\n",
        "print (frame_a)"
      ],
      "metadata": {
        "colab": {
          "base_uri": "https://localhost:8080/"
        },
        "id": "sTTy3lrrCARK",
        "outputId": "b35612d4-37a3-48ff-83a0-742f61f9f1b7"
      },
      "execution_count": 2,
      "outputs": [
        {
          "output_type": "stream",
          "name": "stdout",
          "text": [
            "   a1  a2\n",
            "0   1   1\n",
            "1   1   1\n",
            "2   1   1\n",
            "3   1   1\n"
          ]
        }
      ]
    },
    {
      "cell_type": "code",
      "source": [
        "output = np.arange(1, 5, dtype = float).reshape(4, 1)\n",
        "frame_b = pd.DataFrame(output, columns = ['b'])\n",
        "frame_b ['b'] = frame_a ['a1'] * frame_w ['w1'] + frame_a ['a2'] * frame_w ['w2']\n",
        "print (frame_b)"
      ],
      "metadata": {
        "colab": {
          "base_uri": "https://localhost:8080/"
        },
        "id": "jXMrnu6_CYmq",
        "outputId": "92a55c34-6404-47c2-bf6e-f19506d38d27"
      },
      "execution_count": 157,
      "outputs": [
        {
          "output_type": "stream",
          "name": "stdout",
          "text": [
            "      b\n",
            "0   3.0\n",
            "1   7.0\n",
            "2  11.0\n",
            "3  15.0\n"
          ]
        }
      ]
    },
    {
      "cell_type": "code",
      "source": [
        "from pandas.core.resample import f\n",
        "output = np.arange(1, 5, dtype = float).reshape(4, 1)\n",
        "frame_b = pd.DataFrame(output, columns = ['b'])\n",
        "frame_b ['b'] = frame_a ['a1'] * frame_w ['w1'] + frame_a ['a2'] * frame_w ['w2']\n",
        "print (frame_b)\n",
        "print ('-------------------')\n",
        "frame_final = np.arange(1, 17, dtype = float).reshape(4, 4)\n",
        "data = pd.DataFrame(frame_final, columns = ['b1', 'b2', 'b3', 'b4'])\n",
        "data ['b1'] = frame_b\n",
        "data ['b2'] = frame_b\n",
        "data ['b3'] = frame_b\n",
        "data ['b4'] = frame_b\n",
        "frame_out = data.T\n",
        "print(frame_out)"
      ],
      "metadata": {
        "id": "BLhXUIlExOrt",
        "colab": {
          "base_uri": "https://localhost:8080/"
        },
        "outputId": "bdff81b1-a716-4b3f-b93a-01c9042051f1"
      },
      "execution_count": 188,
      "outputs": [
        {
          "output_type": "stream",
          "name": "stdout",
          "text": [
            "      b\n",
            "0   3.0\n",
            "1   7.0\n",
            "2  11.0\n",
            "3  15.0\n",
            "-------------------\n",
            "      0    1     2     3\n",
            "b1  3.0  7.0  11.0  15.0\n",
            "b2  3.0  7.0  11.0  15.0\n",
            "b3  3.0  7.0  11.0  15.0\n",
            "b4  3.0  7.0  11.0  15.0\n"
          ]
        }
      ]
    }
  ]
}