{
  "nbformat": 4,
  "nbformat_minor": 0,
  "metadata": {
    "colab": {
      "name": "Копия блокнота \"example.ipynb\"\"",
      "provenance": [],
      "collapsed_sections": [],
      "authorship_tag": "ABX9TyOcaOlDnAP6t7KDfRTXfb9E",
      "include_colab_link": true
    },
    "kernelspec": {
      "name": "python3",
      "display_name": "Python 3"
    },
    "language_info": {
      "name": "python"
    }
  },
  "cells": [
    {
      "cell_type": "markdown",
      "metadata": {
        "id": "view-in-github",
        "colab_type": "text"
      },
      "source": [
        "<a href=\"https://colab.research.google.com/github/InowaR/frame/blob/main/first.ipynb\" target=\"_parent\"><img src=\"https://colab.research.google.com/assets/colab-badge.svg\" alt=\"Open In Colab\"/></a>"
      ]
    },
    {
      "cell_type": "code",
      "execution_count": 4,
      "metadata": {
        "colab": {
          "base_uri": "https://localhost:8080/"
        },
        "id": "DYSEH-ZBo4IE",
        "outputId": "a807c51a-077b-404e-e2ac-7e872d791fd9"
      },
      "outputs": [
        {
          "output_type": "execute_result",
          "data": {
            "text/plain": [
              "0     91\n",
              "1    123\n",
              "dtype: int64"
            ]
          },
          "metadata": {},
          "execution_count": 4
        }
      ],
      "source": [
        "import pandas as pd\n",
        "import numpy as np\n",
        "def layer():\n",
        "  a = np.array([1,2]) # number and value of inputs\n",
        "  b = np.array([1,2]) # number and value of outputs\n",
        "  w = np.array([len(a) * len(b)])\n",
        "  w = np.arange(1, w+1) \n",
        "  w = np.array([1,2,3,4]) # number and value of weights\n",
        "  w = w.reshape(len(b),len(a))\n",
        "  temp = np.tile(a,len(b))\n",
        "  temp = np.split(temp, len(b))\n",
        "  temp = np.vstack(temp)\n",
        "  frame_a = pd.DataFrame(temp.T)\n",
        "  frame_b = pd.DataFrame(b)\n",
        "  frame_w = pd.DataFrame(w.T) \n",
        "  a_mul = frame_a * frame_w\n",
        "  final = a_mul.sum(axis ='index')\n",
        "  return final\n",
        "def layer_second():\n",
        "  a = layer()\n",
        "  a = a.to_numpy()\n",
        "  b = np.array([1,2]) # number and value of outputs\n",
        "  w = np.array([len(a) * len(b)])\n",
        "  w = np.arange(1, w+1)\n",
        "  w = np.array([5,6,7,8]) # number and value of weights\n",
        "  w = w.reshape(len(b),len(a))\n",
        "  temp = np.tile(a,len(b))\n",
        "  temp = np.split(temp, len(b))\n",
        "  temp = np.vstack(temp)\n",
        "  frame_a = pd.DataFrame(temp.T)\n",
        "  frame_b = pd.DataFrame(b)\n",
        "  frame_w = pd.DataFrame(w.T) \n",
        "  a_mul = frame_a * frame_w\n",
        "  final_second = a_mul.sum(axis ='index')\n",
        "  return final_second\n",
        "layer_second()"
      ]
    }
  ]
}
