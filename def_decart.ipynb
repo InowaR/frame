{
  "nbformat": 4,
  "nbformat_minor": 0,
  "metadata": {
    "colab": {
      "name": "def_decart.ipynb",
      "provenance": [],
      "collapsed_sections": [],
      "authorship_tag": "ABX9TyO4UVqYEGcBH9s4hM1vr9IB",
      "include_colab_link": true
    },
    "kernelspec": {
      "name": "python3",
      "display_name": "Python 3"
    },
    "language_info": {
      "name": "python"
    }
  },
  "cells": [
    {
      "cell_type": "markdown",
      "metadata": {
        "id": "view-in-github",
        "colab_type": "text"
      },
      "source": [
        "<a href=\"https://colab.research.google.com/github/InowaR/frame/blob/main/def_decart.ipynb\" target=\"_parent\"><img src=\"https://colab.research.google.com/assets/colab-badge.svg\" alt=\"Open In Colab\"/></a>"
      ]
    },
    {
      "cell_type": "code",
      "execution_count": 136,
      "metadata": {
        "colab": {
          "base_uri": "https://localhost:8080/"
        },
        "id": "DYSEH-ZBo4IE",
        "outputId": "c9f43f36-a7cd-457e-dcbc-d92dea158f2d"
      },
      "outputs": [
        {
          "output_type": "execute_result",
          "data": {
            "text/plain": [
              "0    24\n",
              "1     8\n",
              "2    22\n",
              "3    46\n",
              "dtype: int64"
            ]
          },
          "metadata": {},
          "execution_count": 136
        }
      ],
      "source": [
        "import pandas as pd\n",
        "import numpy as np\n",
        "import random\n",
        "def layer():\n",
        "  a = np.array([2,4]) # number and value of inputs\n",
        "  b = np.array([1,2,3,4]) # number and value of outputs\n",
        "  w = np.array([len(a) * len(b)])\n",
        "  w = np.arange(1, w+1) \n",
        "  w = np.random.randint(1, 10, len(a) * len(b)) # number and value of weights\n",
        "  w = w.reshape(len(b),len(a))\n",
        "  temp = np.tile(a,len(b))\n",
        "  temp = np.split(temp, len(b))\n",
        "  temp = np.vstack(temp)\n",
        "  frame_a = pd.DataFrame(temp.T)\n",
        "  frame_b = pd.DataFrame(b)\n",
        "  frame_w = pd.DataFrame(w.T) \n",
        "  a_mul = frame_a * frame_w\n",
        "  final = a_mul.sum(axis ='index')\n",
        "  # print(frame_a)\n",
        "  # print(\"----------input----------------------\")\n",
        "  # print(frame_w)\n",
        "  # print(\"----------weight---------------------\")\n",
        "  # print(final)\n",
        "  # print(\"----------output---------------------\")\n",
        "  return final\n",
        "layer()"
      ]
    },
    {
      "cell_type": "code",
      "source": [
        "def layer_second():\n",
        "  a = layer()\n",
        "  a = a.to_numpy()\n",
        "  b = np.array([2,3,4,5]) # number and value of outputs\n",
        "  w = np.array([len(a) * len(b)])\n",
        "  w = np.arange(1, w+1)\n",
        "  w = np.random.randint(1, 10, len(a) * len(b)) # number and value of weights\n",
        "  w = w.reshape(len(b),len(a))\n",
        "  temp = np.tile(a,len(b))\n",
        "  temp = np.split(temp, len(b))\n",
        "  temp = np.vstack(temp)\n",
        "  frame_a = pd.DataFrame(temp.T)\n",
        "  frame_b = pd.DataFrame(b)\n",
        "  frame_w = pd.DataFrame(w.T) \n",
        "  a_mul = frame_a * frame_w\n",
        "  final_second = a_mul.sum(axis ='index')\n",
        "  # print(frame_a)\n",
        "  # print(\"----------input----------------------\")\n",
        "  # print(frame_w)\n",
        "  # print(\"----------weight---------------------\")\n",
        "  # print(final)\n",
        "  # print(\"----------output---------------------\")\n",
        "  return final_second\n",
        "layer_second()"
      ],
      "metadata": {
        "colab": {
          "base_uri": "https://localhost:8080/"
        },
        "id": "lDgB39tJ0GMZ",
        "outputId": "e6f7dabe-a5f4-4ed7-ec3c-95d57e7ab6d6"
      },
      "execution_count": 137,
      "outputs": [
        {
          "output_type": "execute_result",
          "data": {
            "text/plain": [
              "0    554\n",
              "1    742\n",
              "2    690\n",
              "3    664\n",
              "dtype: int64"
            ]
          },
          "metadata": {},
          "execution_count": 137
        }
      ]
    },
    {
      "cell_type": "code",
      "source": [
        "%%html\n",
        "<a href=\"https://ibb.co/DKPHnYY\"><img src=\"https://i.ibb.co/JkWwPqq/image.png\" alt=\"image\" border=\"0\"></a>"
      ],
      "metadata": {
        "colab": {
          "base_uri": "https://localhost:8080/",
          "height": 381
        },
        "id": "rztC6GRlypJ6",
        "outputId": "b8480342-1eb8-4999-9682-019e7bd8dcf3"
      },
      "execution_count": null,
      "outputs": [
        {
          "output_type": "display_data",
          "data": {
            "text/plain": [
              "<IPython.core.display.HTML object>"
            ],
            "text/html": [
              "<a href=\"https://ibb.co/DKPHnYY\"><img src=\"https://i.ibb.co/JkWwPqq/image.png\" alt=\"image\" border=\"0\"></a>"
            ]
          },
          "metadata": {}
        }
      ]
    }
  ]
}