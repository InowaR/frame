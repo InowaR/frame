{
  "nbformat": 4,
  "nbformat_minor": 0,
  "metadata": {
    "colab": {
      "name": "Копия блокнота \"Копия блокнота \"network1.ipynb\"\"",
      "provenance": [],
      "collapsed_sections": [],
      "authorship_tag": "ABX9TyN/xgQA0bKSmL+W6s4xxUNV",
      "include_colab_link": true
    },
    "kernelspec": {
      "name": "python3",
      "display_name": "Python 3"
    },
    "language_info": {
      "name": "python"
    }
  },
  "cells": [
    {
      "cell_type": "markdown",
      "metadata": {
        "id": "view-in-github",
        "colab_type": "text"
      },
      "source": [
        "<a href=\"https://colab.research.google.com/github/InowaR/frame/blob/main/sigmoid.ipynb\" target=\"_parent\"><img src=\"https://colab.research.google.com/assets/colab-badge.svg\" alt=\"Open In Colab\"/></a>"
      ]
    },
    {
      "cell_type": "code",
      "execution_count": 18,
      "metadata": {
        "id": "L0eEi6yylJCt",
        "colab": {
          "base_uri": "https://localhost:8080/"
        },
        "outputId": "ef5c0adc-95f9-4abe-c3c5-d0d9727819ec"
      },
      "outputs": [
        {
          "output_type": "stream",
          "name": "stdout",
          "text": [
            "0    0.534943\n",
            "1    0.579324\n",
            "dtype: float64\n"
          ]
        }
      ],
      "source": [
        "import pandas as pd\n",
        "import numpy as np\n",
        "# --------------------------------------------------------------------\n",
        "input = np.array([0.1,0.2,0.3]) \n",
        "output_one = np.array([1,1])\n",
        "output_second = np.array([1,1,1])\n",
        "# delta = np.array([9,23]) # <-------------- [100 - 91], [123 - 100]\n",
        "# -------------------------------------------------------------------- \n",
        "def sig(x):\n",
        " return 1/(1 + np.exp(-x))\n",
        "def layer():\n",
        "  a = input # <-------------------------------------input\n",
        "  b = output_one # <--------------------------------output hidden\n",
        "  w = np.array([0.1,0.2,0.3,0.4,0.5,0.6]) # <-----------------------weights\n",
        "  w_reshape = w.reshape(len(a),len(b))\n",
        "  temp = np.tile(a,len(b))\n",
        "  temp = np.split(temp, len(a))\n",
        "  temp = np.vstack(temp)\n",
        "  frame_a = pd.DataFrame(temp.T)\n",
        "  frame_w = pd.DataFrame(w_reshape.T) \n",
        "  a_mul = frame_a * frame_w\n",
        "  a_mul = pd.DataFrame(a_mul.T)\n",
        "  a_mul = a_mul.to_numpy()\n",
        "  a_mul = a_mul.reshape(1, len(w))\n",
        "  a_mul = np.ravel(a_mul) # <---------------------- vector to division\n",
        "  a_mul = np.array_split(a_mul, len(b)) # <-------- division to results 14, 32\n",
        "  a_mul = pd.DataFrame(a_mul)\n",
        "  final = a_mul.sum(axis = 'columns')\n",
        "  return final\n",
        "layer_activate = sig(layer())\n",
        "print(layer_activate)"
      ]
    },
    {
      "cell_type": "code",
      "source": [
        "def layer_second():\n",
        "  a = layer_activate\n",
        "  a = a.to_numpy() # <-------------------------------------input\n",
        "  b = output_second # <------------------------------------output\n",
        "  w = np.array([0.7,0.8,0.9,0.1,0.2,0.3]) # <-----------------------weights\n",
        "  w_reshape = w.reshape(len(a),len(b))\n",
        "  temp = np.tile(a,len(b))\n",
        "  temp = np.split(temp, len(a))\n",
        "  temp = np.vstack(temp)\n",
        "  frame_a = pd.DataFrame(temp.T)\n",
        "  frame_w = pd.DataFrame(w_reshape.T) \n",
        "  a_mul = frame_a * frame_w\n",
        "  a_mul = pd.DataFrame(a_mul.T)\n",
        "  a_mul = a_mul.to_numpy()\n",
        "  a_mul = a_mul.reshape(1, len(w))\n",
        "  a_mul = np.ravel(a_mul) # <---------------------- vector to division\n",
        "  a_mul = np.array_split(a_mul, len(b)) # <-------- division vector\n",
        "  a_mul = pd.DataFrame(a_mul)\n",
        "  final = a_mul.sum(axis = 'columns')\n",
        "  return final\n",
        "layer_activate_second = sig(layer_second())\n",
        "print(layer_activate_second)"
      ],
      "metadata": {
        "colab": {
          "base_uri": "https://localhost:8080/"
        },
        "id": "loailVGQnfbP",
        "outputId": "099ec966-e37b-4ab8-f01c-b713817869bd"
      },
      "execution_count": 22,
      "outputs": [
        {
          "output_type": "stream",
          "name": "stdout",
          "text": [
            "0    0.698027\n",
            "1    0.631668\n",
            "2    0.569739\n",
            "dtype: float64\n"
          ]
        }
      ]
    }
  ]
}